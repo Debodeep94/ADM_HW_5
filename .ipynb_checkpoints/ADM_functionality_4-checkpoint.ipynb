{
 "cells": [
  {
   "cell_type": "code",
   "execution_count": 4,
   "metadata": {},
   "outputs": [],
   "source": [
    "# Libraries\n",
    "import pandas as pd\n",
    "import networkx as nx\n",
    "from tqdm import tqdm\n",
    "import pickle # used to store the files\n",
    "import itertools\n",
    "from itertools import permutations\n",
    "import folium # used to plot\n",
    "import numpy as np\n",
    "import decimal\n",
    "from  more_itertools import unique_everseen\n",
    "from collections import defaultdict\n",
    "from tqdm import tqdm_notebook\n",
    "import builtins"
   ]
  },
  {
   "cell_type": "markdown",
   "metadata": {},
   "source": [
    "## Import coordinates (used for the plot)"
   ]
  },
  {
   "cell_type": "code",
   "execution_count": 15,
   "metadata": {},
   "outputs": [
    {
     "name": "stderr",
     "output_type": "stream",
     "text": [
      "C:\\Users\\Luca\\Anaconda3\\lib\\site-packages\\IPython\\core\\interactiveshell.py:3057: DtypeWarning: Columns (1,2,3,4,5,6) have mixed types. Specify dtype option on import or set low_memory=False.\n",
      "  interactivity=interactivity, compiler=compiler, result=result)\n"
     ]
    }
   ],
   "source": [
    "coordinates = pd.read_csv(r\"C:\\Users\\Luca\\Desktop\\WIP\\ADM HW 5\\data\\USA-road-d.CAL.co\", sep=' ', delimiter=None,\n",
    "                      index_col=None, usecols=None, encoding='ISO-8859-1')"
   ]
  },
  {
   "cell_type": "code",
   "execution_count": 16,
   "metadata": {},
   "outputs": [],
   "source": [
    "# combining two columns pandas\n",
    "coordinates['combined']=coordinates['c'].astype(str)+''+coordinates['9th'].astype(str)"
   ]
  },
  {
   "cell_type": "code",
   "execution_count": 17,
   "metadata": {},
   "outputs": [],
   "source": [
    "coordinates = coordinates.iloc[6:] # deleting the first 5 rows"
   ]
  },
  {
   "cell_type": "code",
   "execution_count": 18,
   "metadata": {},
   "outputs": [],
   "source": [
    "# organizing pandas DF\n",
    "coordinates.drop(['c', '9th', 'Challenge:', 'Shortest', 'Paths'], axis=1, inplace=True)"
   ]
  },
  {
   "cell_type": "code",
   "execution_count": 19,
   "metadata": {},
   "outputs": [],
   "source": [
    "coordinates.columns = ['Latitude', 'Longitude', 'Id_Node']"
   ]
  },
  {
   "cell_type": "code",
   "execution_count": 20,
   "metadata": {},
   "outputs": [],
   "source": [
    "coordinates = coordinates.reset_index(drop=True)"
   ]
  },
  {
   "cell_type": "code",
   "execution_count": 21,
   "metadata": {},
   "outputs": [],
   "source": [
    "# Transform all str into int\n",
    "coordinates[['Latitude', 'Longitude']] = coordinates[['Latitude', 'Longitude']].astype(int)"
   ]
  },
  {
   "cell_type": "markdown",
   "metadata": {},
   "source": [
    "##   "
   ]
  },
  {
   "cell_type": "code",
   "execution_count": 2,
   "metadata": {},
   "outputs": [],
   "source": [
    "def clean_it(path):\n",
    "    with open(path, 'r') as f:\n",
    "        lst = f.readlines()\n",
    "        out = []\n",
    "        for i in lst:\n",
    "            row = i[2:-1] # deleting all elements we don't need \n",
    "            out.append(row)\n",
    "        clean_out = out[7:]\n",
    "        clean_out2 = []\n",
    "        for j in range(len(clean_out)):\n",
    "            clean_out2.append(list(map(int, clean_out[j].split())))        \n",
    "    return clean_out2"
   ]
  },
  {
   "cell_type": "code",
   "execution_count": 3,
   "metadata": {},
   "outputs": [],
   "source": [
    "path_dist=\"C:\\\\Users\\Debodeep\\Documents\\Sapienza Learning Materials\\ADM\\ADMHw5\"+\"\\\\USA-road-d.CAL.gr\"\n",
    "path_time=\"C:\\\\Users\\Debodeep\\Documents\\Sapienza Learning Materials\\ADM\\ADMHw5\"+\"\\\\USA-road-t.CAL.gr\"\n",
    "path_cod= \"C:\\\\Users\\Debodeep\\Documents\\Sapienza Learning Materials\\ADM\\ADMHw5\"+\"\\\\USA-road-d.CAL.co\""
   ]
  },
  {
   "cell_type": "code",
   "execution_count": 4,
   "metadata": {},
   "outputs": [],
   "source": [
    "list_dist=clean_it(path_dist)\n",
    "list_time=clean_it(path_time)\n",
    "list_cod=clean_it(path_cod)"
   ]
  },
  {
   "cell_type": "code",
   "execution_count": 80,
   "metadata": {},
   "outputs": [
    {
     "data": {
      "text/html": [
       "<div>\n",
       "<style scoped>\n",
       "    .dataframe tbody tr th:only-of-type {\n",
       "        vertical-align: middle;\n",
       "    }\n",
       "\n",
       "    .dataframe tbody tr th {\n",
       "        vertical-align: top;\n",
       "    }\n",
       "\n",
       "    .dataframe thead th {\n",
       "        text-align: right;\n",
       "    }\n",
       "</style>\n",
       "<table border=\"1\" class=\"dataframe\">\n",
       "  <thead>\n",
       "    <tr style=\"text-align: right;\">\n",
       "      <th></th>\n",
       "      <th>Node_a</th>\n",
       "      <th>Node_b</th>\n",
       "      <th>dist</th>\n",
       "      <th>weight</th>\n",
       "    </tr>\n",
       "  </thead>\n",
       "  <tbody>\n",
       "    <tr>\n",
       "      <td>0</td>\n",
       "      <td>1</td>\n",
       "      <td>1048577</td>\n",
       "      <td>456</td>\n",
       "      <td>1</td>\n",
       "    </tr>\n",
       "    <tr>\n",
       "      <td>1</td>\n",
       "      <td>1048577</td>\n",
       "      <td>1</td>\n",
       "      <td>456</td>\n",
       "      <td>1</td>\n",
       "    </tr>\n",
       "    <tr>\n",
       "      <td>2</td>\n",
       "      <td>2</td>\n",
       "      <td>1048578</td>\n",
       "      <td>2389</td>\n",
       "      <td>1</td>\n",
       "    </tr>\n",
       "    <tr>\n",
       "      <td>3</td>\n",
       "      <td>1048578</td>\n",
       "      <td>2</td>\n",
       "      <td>2389</td>\n",
       "      <td>1</td>\n",
       "    </tr>\n",
       "    <tr>\n",
       "      <td>4</td>\n",
       "      <td>3</td>\n",
       "      <td>1048579</td>\n",
       "      <td>358</td>\n",
       "      <td>1</td>\n",
       "    </tr>\n",
       "  </tbody>\n",
       "</table>\n",
       "</div>"
      ],
      "text/plain": [
       "    Node_a   Node_b  dist  weight\n",
       "0        1  1048577   456       1\n",
       "1  1048577        1   456       1\n",
       "2        2  1048578  2389       1\n",
       "3  1048578        2  2389       1\n",
       "4        3  1048579   358       1"
      ]
     },
     "execution_count": 80,
     "metadata": {},
     "output_type": "execute_result"
    }
   ],
   "source": [
    "data_dist=pd.DataFrame(list_dist)\n",
    "data_dist.columns=[\"Node_a\",\"Node_b\",\"dist\"]\n",
    "data_dist['weight']=1\n",
    "data_dist.head()"
   ]
  },
  {
   "cell_type": "code",
   "execution_count": 81,
   "metadata": {},
   "outputs": [
    {
     "data": {
      "text/html": [
       "<div>\n",
       "<style scoped>\n",
       "    .dataframe tbody tr th:only-of-type {\n",
       "        vertical-align: middle;\n",
       "    }\n",
       "\n",
       "    .dataframe tbody tr th {\n",
       "        vertical-align: top;\n",
       "    }\n",
       "\n",
       "    .dataframe thead th {\n",
       "        text-align: right;\n",
       "    }\n",
       "</style>\n",
       "<table border=\"1\" class=\"dataframe\">\n",
       "  <thead>\n",
       "    <tr style=\"text-align: right;\">\n",
       "      <th></th>\n",
       "      <th>Node_a</th>\n",
       "      <th>Node_b</th>\n",
       "      <th>time</th>\n",
       "      <th>weight</th>\n",
       "    </tr>\n",
       "  </thead>\n",
       "  <tbody>\n",
       "    <tr>\n",
       "      <td>0</td>\n",
       "      <td>1</td>\n",
       "      <td>1048577</td>\n",
       "      <td>1139</td>\n",
       "      <td>1</td>\n",
       "    </tr>\n",
       "    <tr>\n",
       "      <td>1</td>\n",
       "      <td>1048577</td>\n",
       "      <td>1</td>\n",
       "      <td>1139</td>\n",
       "      <td>1</td>\n",
       "    </tr>\n",
       "    <tr>\n",
       "      <td>2</td>\n",
       "      <td>2</td>\n",
       "      <td>1048578</td>\n",
       "      <td>5972</td>\n",
       "      <td>1</td>\n",
       "    </tr>\n",
       "    <tr>\n",
       "      <td>3</td>\n",
       "      <td>1048578</td>\n",
       "      <td>2</td>\n",
       "      <td>5972</td>\n",
       "      <td>1</td>\n",
       "    </tr>\n",
       "    <tr>\n",
       "      <td>4</td>\n",
       "      <td>3</td>\n",
       "      <td>1048579</td>\n",
       "      <td>895</td>\n",
       "      <td>1</td>\n",
       "    </tr>\n",
       "  </tbody>\n",
       "</table>\n",
       "</div>"
      ],
      "text/plain": [
       "    Node_a   Node_b  time  weight\n",
       "0        1  1048577  1139       1\n",
       "1  1048577        1  1139       1\n",
       "2        2  1048578  5972       1\n",
       "3  1048578        2  5972       1\n",
       "4        3  1048579   895       1"
      ]
     },
     "execution_count": 81,
     "metadata": {},
     "output_type": "execute_result"
    }
   ],
   "source": [
    "data_time=pd.DataFrame(list_time)\n",
    "data_time.columns=[\"Node_a\",\"Node_b\",\"time\"]\n",
    "data_time['weight']=1\n",
    "data_time.head()"
   ]
  },
  {
   "cell_type": "code",
   "execution_count": 7,
   "metadata": {},
   "outputs": [
    {
     "data": {
      "text/html": [
       "<div>\n",
       "<style scoped>\n",
       "    .dataframe tbody tr th:only-of-type {\n",
       "        vertical-align: middle;\n",
       "    }\n",
       "\n",
       "    .dataframe tbody tr th {\n",
       "        vertical-align: top;\n",
       "    }\n",
       "\n",
       "    .dataframe thead th {\n",
       "        text-align: right;\n",
       "    }\n",
       "</style>\n",
       "<table border=\"1\" class=\"dataframe\">\n",
       "  <thead>\n",
       "    <tr style=\"text-align: right;\">\n",
       "      <th></th>\n",
       "      <th>Node_a</th>\n",
       "      <th>latitude</th>\n",
       "      <th>longitude</th>\n",
       "    </tr>\n",
       "  </thead>\n",
       "  <tbody>\n",
       "    <tr>\n",
       "      <td>0</td>\n",
       "      <td>1</td>\n",
       "      <td>-114315309</td>\n",
       "      <td>34133550</td>\n",
       "    </tr>\n",
       "    <tr>\n",
       "      <td>1</td>\n",
       "      <td>2</td>\n",
       "      <td>-114223946</td>\n",
       "      <td>34176221</td>\n",
       "    </tr>\n",
       "    <tr>\n",
       "      <td>2</td>\n",
       "      <td>3</td>\n",
       "      <td>-114307299</td>\n",
       "      <td>34148791</td>\n",
       "    </tr>\n",
       "    <tr>\n",
       "      <td>3</td>\n",
       "      <td>4</td>\n",
       "      <td>-114318765</td>\n",
       "      <td>34138889</td>\n",
       "    </tr>\n",
       "    <tr>\n",
       "      <td>4</td>\n",
       "      <td>5</td>\n",
       "      <td>-114347300</td>\n",
       "      <td>34042614</td>\n",
       "    </tr>\n",
       "  </tbody>\n",
       "</table>\n",
       "</div>"
      ],
      "text/plain": [
       "   Node_a   latitude  longitude\n",
       "0       1 -114315309   34133550\n",
       "1       2 -114223946   34176221\n",
       "2       3 -114307299   34148791\n",
       "3       4 -114318765   34138889\n",
       "4       5 -114347300   34042614"
      ]
     },
     "execution_count": 7,
     "metadata": {},
     "output_type": "execute_result"
    }
   ],
   "source": [
    "data_cod=pd.DataFrame(list_cod)\n",
    "data_cod.columns=[\"Node_a\",\"latitude\",\"longitude\"]\n",
    "data_cod.head()"
   ]
  },
  {
   "cell_type": "code",
   "execution_count": 16,
   "metadata": {},
   "outputs": [
    {
     "data": {
      "text/html": [
       "<div>\n",
       "<style scoped>\n",
       "    .dataframe tbody tr th:only-of-type {\n",
       "        vertical-align: middle;\n",
       "    }\n",
       "\n",
       "    .dataframe tbody tr th {\n",
       "        vertical-align: top;\n",
       "    }\n",
       "\n",
       "    .dataframe thead th {\n",
       "        text-align: right;\n",
       "    }\n",
       "</style>\n",
       "<table border=\"1\" class=\"dataframe\">\n",
       "  <thead>\n",
       "    <tr style=\"text-align: right;\">\n",
       "      <th></th>\n",
       "      <th>Node_a</th>\n",
       "      <th>Node_b</th>\n",
       "      <th>dist</th>\n",
       "      <th>time</th>\n",
       "      <th>weight</th>\n",
       "    </tr>\n",
       "  </thead>\n",
       "  <tbody>\n",
       "    <tr>\n",
       "      <td>0</td>\n",
       "      <td>1</td>\n",
       "      <td>1048577</td>\n",
       "      <td>1048577</td>\n",
       "      <td>1139</td>\n",
       "      <td>1</td>\n",
       "    </tr>\n",
       "    <tr>\n",
       "      <td>1</td>\n",
       "      <td>1048577</td>\n",
       "      <td>1</td>\n",
       "      <td>1</td>\n",
       "      <td>1139</td>\n",
       "      <td>1</td>\n",
       "    </tr>\n",
       "    <tr>\n",
       "      <td>2</td>\n",
       "      <td>2</td>\n",
       "      <td>1048578</td>\n",
       "      <td>1048578</td>\n",
       "      <td>5972</td>\n",
       "      <td>1</td>\n",
       "    </tr>\n",
       "    <tr>\n",
       "      <td>3</td>\n",
       "      <td>1048578</td>\n",
       "      <td>2</td>\n",
       "      <td>2</td>\n",
       "      <td>5972</td>\n",
       "      <td>1</td>\n",
       "    </tr>\n",
       "    <tr>\n",
       "      <td>4</td>\n",
       "      <td>3</td>\n",
       "      <td>1048579</td>\n",
       "      <td>1048579</td>\n",
       "      <td>895</td>\n",
       "      <td>1</td>\n",
       "    </tr>\n",
       "  </tbody>\n",
       "</table>\n",
       "</div>"
      ],
      "text/plain": [
       "    Node_a   Node_b     dist  time  weight\n",
       "0        1  1048577  1048577  1139       1\n",
       "1  1048577        1        1  1139       1\n",
       "2        2  1048578  1048578  5972       1\n",
       "3  1048578        2        2  5972       1\n",
       "4        3  1048579  1048579   895       1"
      ]
     },
     "execution_count": 16,
     "metadata": {},
     "output_type": "execute_result"
    }
   ],
   "source": [
    "map_data = {'Node_a':data_dist[\"Node_a\"], 'Node_b':data_dist[\"Node_b\"],'dist':data_dist[\"Node_b\"],\"time\":data_time[\"time\"]}\n",
    "map_data=pd.DataFrame(map_data)\n",
    "map_data['weight']=1\n",
    "map_data.head()"
   ]
  },
  {
   "cell_type": "code",
   "execution_count": 71,
   "metadata": {},
   "outputs": [],
   "source": [
    "#create a class called Graph where \n",
    "#self.edges is a dict of all possible next nodes e.g. {'1': ['4', '3', '8', '9'], ...}\n",
    "#self.weights has all the weights between two nodes, with the two nodes as a tuple as the key e.g. {('1', '2'): 1, ('5', '9'): 1, ...}\n",
    "\n",
    "class Graph():\n",
    "    def __init__(self):\n",
    "        self.edges = defaultdict(list)\n",
    "        self.weights = {}\n",
    "    \n",
    "    def add_edge(self, from_node, to_node, weight):\n",
    "        # assuming edges are bi-directional\n",
    "        self.edges[from_node].append(to_node)\n",
    "        self.edges[to_node].append(from_node)\n",
    "        self.weights[(from_node, to_node)] = weight\n",
    "        self.weights[(to_node, from_node)] = weight"
   ]
  },
  {
   "cell_type": "code",
   "execution_count": 72,
   "metadata": {},
   "outputs": [],
   "source": [
    "#call the Graph class\n",
    "graph = Graph()"
   ]
  },
  {
   "cell_type": "code",
   "execution_count": 82,
   "metadata": {},
   "outputs": [],
   "source": [
    "#take the input in which first node represents the source and the last node represents the destination\n",
    "list_of_nodes_to_dest = []\n",
    "def take_input():\n",
    "    while True:\n",
    "        inp = input()\n",
    "        if inp == \"\":\n",
    "            break\n",
    "        else:\n",
    "            list_of_nodes_to_dest.append(inp)\n",
    "            \n",
    "    #pack the graph, source input and destination input into a tuple ie. (graph,source,destination)\n",
    "    res = [(graph ,list_of_nodes_to_dest[i], list_of_nodes_to_dest[i + 1])\n",
    "           for i in range(len(list_of_nodes_to_dest) - 1)] \n",
    "    \n",
    "    #choose which type of distance to consider\n",
    "    print(\"Choose 1 for distance, 2 for network distance and 3 for time\")\n",
    "    inp = input()   \n",
    "    return inp,res"
   ]
  },
  {
   "cell_type": "code",
   "execution_count": 83,
   "metadata": {},
   "outputs": [
    {
     "name": "stdout",
     "output_type": "stream",
     "text": [
      "21\n",
      "22\n",
      "23\n",
      "24\n",
      "25\n",
      "\n",
      "Choose 1 for distance, 2 for network distance and 3 for time\n",
      "1\n"
     ]
    }
   ],
   "source": [
    "inp,res = take_input()"
   ]
  },
  {
   "cell_type": "code",
   "execution_count": 84,
   "metadata": {},
   "outputs": [],
   "source": [
    "#create an edge list with source, target and distance/network distance/time distance\n",
    "edge_list = []\n",
    "if inp == '1':\n",
    "    for i,j in data_dist.iterrows():\n",
    "        edge_list.append((j[0],j[1],j[2]))\n",
    "elif inp == '2':\n",
    "    for i,j in data_dist.iterrows():\n",
    "        edge_list.append((j[0],j[1],j[3]))\n",
    "elif inp == '3':\n",
    "    for i,j in data_time.iterrows():\n",
    "        edge_list.append((j[0],j[1],j[2]))"
   ]
  },
  {
   "cell_type": "code",
   "execution_count": 89,
   "metadata": {},
   "outputs": [],
   "source": [
    "for edge in edge_list:\n",
    "    graph.add_edge(*edge)"
   ]
  },
  {
   "cell_type": "code",
   "execution_count": 90,
   "metadata": {},
   "outputs": [],
   "source": [
    "def dijsktra(graph, initial, end):\n",
    "    # shortest paths is a dict of nodes\n",
    "    # whose value is a tuple of (previous node, weight)\n",
    "    shortest_paths = {initial: (None, 0)}\n",
    "    current_node = initial\n",
    "    visited = set()\n",
    "    \n",
    "    while current_node != end:\n",
    "        visited.add(current_node)\n",
    "        destinations = graph.edges[current_node]\n",
    "        weight_to_current_node = shortest_paths[current_node][1]\n",
    "\n",
    "        for next_node in destinations:\n",
    "            weight = graph.weights[(current_node, next_node)] + weight_to_current_node\n",
    "            if next_node not in shortest_paths:\n",
    "                shortest_paths[next_node] = (current_node, weight)\n",
    "            else:\n",
    "                current_shortest_weight = shortest_paths[next_node][1]\n",
    "                if current_shortest_weight > weight:\n",
    "                    shortest_paths[next_node] = (current_node, weight)\n",
    "    \n",
    "        next_destinations = {node: shortest_paths[node] for node in shortest_paths if node not in visited}\n",
    "        if not next_destinations:\n",
    "            return \"Route Not Possible\"\n",
    "        # next node is the destination with the lowest weight\n",
    "        current_node = min(next_destinations, key=lambda k: next_destinations[k][1])\n",
    "        \n",
    "\n",
    "    # Work back through destinations in shortest path\n",
    "    path = []\n",
    "    weights = []\n",
    "    while current_node is not None:\n",
    "        path.append(current_node)\n",
    "        next_node = shortest_paths[current_node][0]\n",
    "        weights.append(shortest_paths[current_node][1])\n",
    "        current_node = next_node\n",
    "    # Reverse path\n",
    "    path = path[::-1]\n",
    "    return weights[0],path"
   ]
  },
  {
   "cell_type": "code",
   "execution_count": 99,
   "metadata": {},
   "outputs": [],
   "source": [
    "#call the shortest route function to find the shortest path and weight between each set of nodes\n",
    "df_nodes=dijsktra(graph,21,22)"
   ]
  },
  {
   "cell_type": "code",
   "execution_count": 100,
   "metadata": {},
   "outputs": [
    {
     "data": {
      "text/plain": [
       "(160235,\n",
       " [21,\n",
       "  1048596,\n",
       "  1048595,\n",
       "  24,\n",
       "  23,\n",
       "  61,\n",
       "  1048625,\n",
       "  1048628,\n",
       "  65,\n",
       "  1048629,\n",
       "  66,\n",
       "  80,\n",
       "  1048641,\n",
       "  2319,\n",
       "  1048593,\n",
       "  22])"
      ]
     },
     "execution_count": 100,
     "metadata": {},
     "output_type": "execute_result"
    }
   ],
   "source": [
    "df_nodes"
   ]
  },
  {
   "cell_type": "code",
   "execution_count": null,
   "metadata": {},
   "outputs": [],
   "source": [
    "sequence = df_nodes[1]"
   ]
  },
  {
   "cell_type": "code",
   "execution_count": 9,
   "metadata": {},
   "outputs": [],
   "source": [
    "start = 160235"
   ]
  },
  {
   "cell_type": "code",
   "execution_count": 26,
   "metadata": {},
   "outputs": [],
   "source": [
    "sequence = [21,\n",
    "  1048596,\n",
    "  1048595,\n",
    "  24,\n",
    "  23,\n",
    "  61,\n",
    "  1048625,\n",
    "  1048628,\n",
    "  65,\n",
    "  1048629,\n",
    "  66,\n",
    "  80,\n",
    "  1048641,\n",
    "  2319,\n",
    "  1048593,\n",
    "  22]"
   ]
  },
  {
   "cell_type": "code",
   "execution_count": 27,
   "metadata": {},
   "outputs": [],
   "source": [
    "# we then create a list of unique nodes\n",
    "n = builtins.map(int, sequence) \n",
    "n = list(unique_everseen(n))"
   ]
  },
  {
   "cell_type": "code",
   "execution_count": 28,
   "metadata": {},
   "outputs": [],
   "source": [
    "map4 = folium.Map(location = [34.133550,-114.315309], zoom_start = 6)"
   ]
  },
  {
   "cell_type": "code",
   "execution_count": 29,
   "metadata": {},
   "outputs": [],
   "source": [
    "first = n.pop(0) # --> starting point"
   ]
  },
  {
   "cell_type": "code",
   "execution_count": 30,
   "metadata": {},
   "outputs": [
    {
     "data": {
      "text/plain": [
       "<folium.map.Marker at 0x1aa4a198ac8>"
      ]
     },
     "execution_count": 30,
     "metadata": {},
     "output_type": "execute_result"
    }
   ],
   "source": [
    "# We are going to use a different marker to show the initial node\n",
    "longitude = str(coordinates.iloc[int(first)-1]['Longitude'])\n",
    "longitude = decimal.Decimal(longitude[:2] + \".\" + longitude[2:])\n",
    "\n",
    "latitude = str(coordinates.iloc[int(first)-1]['Latitude'])\n",
    "latitude = decimal.Decimal(latitude[:4] + \".\" + latitude[4:])\n",
    "\n",
    "folium.Marker(\n",
    "    location=[longitude, latitude],\n",
    "    popup='Timberline Lodge',\n",
    "    icon=folium.Icon(color='red')\n",
    ").add_to(map4)"
   ]
  },
  {
   "cell_type": "code",
   "execution_count": 31,
   "metadata": {},
   "outputs": [],
   "source": [
    "coor = []\n",
    "for node in n:\n",
    "    \n",
    "    # We locate the coordinates of the node\n",
    "    longitude = str(coordinates.iloc[int(node)-1]['Longitude']) \n",
    "    longitude = decimal.Decimal(longitude[:2] + \".\" + longitude[2:])\n",
    "    \n",
    "    latitude = str(coordinates.iloc[int(node)-1]['Latitude'])\n",
    "    latitude = decimal.Decimal(latitude[:4] + \".\" + latitude[4:])\n",
    "    \n",
    "    # We add a marker for each node in the list n\n",
    "    folium.Marker([longitude, latitude]).add_to(map4)\n",
    "    coor.append((longitude, latitude))\n"
   ]
  },
  {
   "cell_type": "code",
   "execution_count": 32,
   "metadata": {},
   "outputs": [
    {
     "data": {
      "text/html": [
       "<div style=\"width:100%;\"><div style=\"position:relative;width:100%;height:0;padding-bottom:60%;\"><iframe src=\"data:text/html;charset=utf-8;base64,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\" style=\"position:absolute;width:100%;height:100%;left:0;top:0;border:none !important;\" allowfullscreen webkitallowfullscreen mozallowfullscreen></iframe></div></div>"
      ],
      "text/plain": [
       "<folium.folium.Map at 0x1aa59b7f4a8>"
      ]
     },
     "execution_count": 32,
     "metadata": {},
     "output_type": "execute_result"
    }
   ],
   "source": [
    "folium.PolyLine(coor).add_to(map4)\n",
    "map4"
   ]
  }
 ],
 "metadata": {
  "kernelspec": {
   "display_name": "Python 3",
   "language": "python",
   "name": "python3"
  },
  "language_info": {
   "codemirror_mode": {
    "name": "ipython",
    "version": 3
   },
   "file_extension": ".py",
   "mimetype": "text/x-python",
   "name": "python",
   "nbconvert_exporter": "python",
   "pygments_lexer": "ipython3",
   "version": "3.7.3"
  }
 },
 "nbformat": 4,
 "nbformat_minor": 2
}
