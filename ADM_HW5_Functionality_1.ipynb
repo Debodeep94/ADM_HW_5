{
 "cells": [
  {
   "cell_type": "code",
   "execution_count": 1,
   "metadata": {},
   "outputs": [],
   "source": [
    "import pandas as pd\n",
    "import numpy as np\n",
    "import networkx as nx\n",
    "from collections import defaultdict"
   ]
  },
  {
   "cell_type": "code",
   "execution_count": 2,
   "metadata": {},
   "outputs": [],
   "source": [
    "def clean_it(path):\n",
    "    with open(path, 'r') as f:\n",
    "        lst = f.readlines()\n",
    "        out = []\n",
    "        for i in lst:\n",
    "            row = i[2:-1] # deleting all elements we don't need \n",
    "            out.append(row)\n",
    "        clean_out = out[7:]\n",
    "        clean_out2 = []\n",
    "        for j in range(len(clean_out)):\n",
    "            clean_out2.append(list(map(int, clean_out[j].split())))        \n",
    "    return clean_out2"
   ]
  },
  {
   "cell_type": "code",
   "execution_count": 3,
   "metadata": {},
   "outputs": [],
   "source": [
    "path_dist=\"C:\\\\Users\\Debodeep\\Documents\\Sapienza Learning Materials\\ADM\\ADMHw5\"+\"\\\\USA-road-d.CAL.gr\"\n",
    "path_time=\"C:\\\\Users\\Debodeep\\Documents\\Sapienza Learning Materials\\ADM\\ADMHw5\"+\"\\\\USA-road-t.CAL.gr\"\n",
    "path_cod= \"C:\\\\Users\\Debodeep\\Documents\\Sapienza Learning Materials\\ADM\\ADMHw5\"+\"\\\\USA-road-d.CAL.co\""
   ]
  },
  {
   "cell_type": "code",
   "execution_count": 4,
   "metadata": {},
   "outputs": [],
   "source": [
    "list_dist=clean_it(path_dist)\n",
    "list_time=clean_it(path_time)\n",
    "list_cod=clean_it(path_cod)"
   ]
  },
  {
   "cell_type": "code",
   "execution_count": 118,
   "metadata": {},
   "outputs": [
    {
     "data": {
      "text/html": [
       "<div>\n",
       "<style scoped>\n",
       "    .dataframe tbody tr th:only-of-type {\n",
       "        vertical-align: middle;\n",
       "    }\n",
       "\n",
       "    .dataframe tbody tr th {\n",
       "        vertical-align: top;\n",
       "    }\n",
       "\n",
       "    .dataframe thead th {\n",
       "        text-align: right;\n",
       "    }\n",
       "</style>\n",
       "<table border=\"1\" class=\"dataframe\">\n",
       "  <thead>\n",
       "    <tr style=\"text-align: right;\">\n",
       "      <th></th>\n",
       "      <th>Node1</th>\n",
       "      <th>Node2</th>\n",
       "      <th>measure</th>\n",
       "    </tr>\n",
       "  </thead>\n",
       "  <tbody>\n",
       "    <tr>\n",
       "      <td>0</td>\n",
       "      <td>1</td>\n",
       "      <td>1048577</td>\n",
       "      <td>456</td>\n",
       "    </tr>\n",
       "    <tr>\n",
       "      <td>1</td>\n",
       "      <td>1048577</td>\n",
       "      <td>1</td>\n",
       "      <td>456</td>\n",
       "    </tr>\n",
       "    <tr>\n",
       "      <td>2</td>\n",
       "      <td>2</td>\n",
       "      <td>1048578</td>\n",
       "      <td>2389</td>\n",
       "    </tr>\n",
       "    <tr>\n",
       "      <td>3</td>\n",
       "      <td>1048578</td>\n",
       "      <td>2</td>\n",
       "      <td>2389</td>\n",
       "    </tr>\n",
       "    <tr>\n",
       "      <td>4</td>\n",
       "      <td>3</td>\n",
       "      <td>1048579</td>\n",
       "      <td>358</td>\n",
       "    </tr>\n",
       "  </tbody>\n",
       "</table>\n",
       "</div>"
      ],
      "text/plain": [
       "     Node1    Node2  measure\n",
       "0        1  1048577      456\n",
       "1  1048577        1      456\n",
       "2        2  1048578     2389\n",
       "3  1048578        2     2389\n",
       "4        3  1048579      358"
      ]
     },
     "execution_count": 118,
     "metadata": {},
     "output_type": "execute_result"
    }
   ],
   "source": [
    "data_dist=pd.DataFrame(list_dist)\n",
    "data_dist.columns=[\"Node1\",\"Node2\",\"measure\"]\n",
    "data_dist.head()"
   ]
  },
  {
   "cell_type": "code",
   "execution_count": 79,
   "metadata": {},
   "outputs": [
    {
     "data": {
      "text/html": [
       "<div>\n",
       "<style scoped>\n",
       "    .dataframe tbody tr th:only-of-type {\n",
       "        vertical-align: middle;\n",
       "    }\n",
       "\n",
       "    .dataframe tbody tr th {\n",
       "        vertical-align: top;\n",
       "    }\n",
       "\n",
       "    .dataframe thead th {\n",
       "        text-align: right;\n",
       "    }\n",
       "</style>\n",
       "<table border=\"1\" class=\"dataframe\">\n",
       "  <thead>\n",
       "    <tr style=\"text-align: right;\">\n",
       "      <th></th>\n",
       "      <th>Node1</th>\n",
       "      <th>Node2</th>\n",
       "      <th>measure</th>\n",
       "    </tr>\n",
       "  </thead>\n",
       "  <tbody>\n",
       "    <tr>\n",
       "      <td>0</td>\n",
       "      <td>1</td>\n",
       "      <td>1048577</td>\n",
       "      <td>1139</td>\n",
       "    </tr>\n",
       "    <tr>\n",
       "      <td>1</td>\n",
       "      <td>1048577</td>\n",
       "      <td>1</td>\n",
       "      <td>1139</td>\n",
       "    </tr>\n",
       "    <tr>\n",
       "      <td>2</td>\n",
       "      <td>2</td>\n",
       "      <td>1048578</td>\n",
       "      <td>5972</td>\n",
       "    </tr>\n",
       "    <tr>\n",
       "      <td>3</td>\n",
       "      <td>1048578</td>\n",
       "      <td>2</td>\n",
       "      <td>5972</td>\n",
       "    </tr>\n",
       "    <tr>\n",
       "      <td>4</td>\n",
       "      <td>3</td>\n",
       "      <td>1048579</td>\n",
       "      <td>895</td>\n",
       "    </tr>\n",
       "  </tbody>\n",
       "</table>\n",
       "</div>"
      ],
      "text/plain": [
       "     Node1    Node2  measure\n",
       "0        1  1048577     1139\n",
       "1  1048577        1     1139\n",
       "2        2  1048578     5972\n",
       "3  1048578        2     5972\n",
       "4        3  1048579      895"
      ]
     },
     "execution_count": 79,
     "metadata": {},
     "output_type": "execute_result"
    }
   ],
   "source": [
    "data_time=pd.DataFrame(list_time)\n",
    "data_time.columns=[\"Node1\",\"Node2\",\"measure\"]\n",
    "data_time.head()"
   ]
  },
  {
   "cell_type": "code",
   "execution_count": 131,
   "metadata": {},
   "outputs": [
    {
     "data": {
      "text/html": [
       "<div>\n",
       "<style scoped>\n",
       "    .dataframe tbody tr th:only-of-type {\n",
       "        vertical-align: middle;\n",
       "    }\n",
       "\n",
       "    .dataframe tbody tr th {\n",
       "        vertical-align: top;\n",
       "    }\n",
       "\n",
       "    .dataframe thead th {\n",
       "        text-align: right;\n",
       "    }\n",
       "</style>\n",
       "<table border=\"1\" class=\"dataframe\">\n",
       "  <thead>\n",
       "    <tr style=\"text-align: right;\">\n",
       "      <th></th>\n",
       "      <th>Node1</th>\n",
       "      <th>Node2</th>\n",
       "      <th>measure</th>\n",
       "    </tr>\n",
       "  </thead>\n",
       "  <tbody>\n",
       "    <tr>\n",
       "      <td>0</td>\n",
       "      <td>1</td>\n",
       "      <td>1048577</td>\n",
       "      <td>1</td>\n",
       "    </tr>\n",
       "    <tr>\n",
       "      <td>1</td>\n",
       "      <td>1048577</td>\n",
       "      <td>1</td>\n",
       "      <td>1</td>\n",
       "    </tr>\n",
       "    <tr>\n",
       "      <td>2</td>\n",
       "      <td>2</td>\n",
       "      <td>1048578</td>\n",
       "      <td>1</td>\n",
       "    </tr>\n",
       "    <tr>\n",
       "      <td>3</td>\n",
       "      <td>1048578</td>\n",
       "      <td>2</td>\n",
       "      <td>1</td>\n",
       "    </tr>\n",
       "    <tr>\n",
       "      <td>4</td>\n",
       "      <td>3</td>\n",
       "      <td>1048579</td>\n",
       "      <td>1</td>\n",
       "    </tr>\n",
       "  </tbody>\n",
       "</table>\n",
       "</div>"
      ],
      "text/plain": [
       "     Node1    Node2  measure\n",
       "0        1  1048577        1\n",
       "1  1048577        1        1\n",
       "2        2  1048578        1\n",
       "3  1048578        2        1\n",
       "4        3  1048579        1"
      ]
     },
     "execution_count": 131,
     "metadata": {},
     "output_type": "execute_result"
    }
   ],
   "source": [
    "measure=1\n",
    "data_ntrk=pd.DataFrame(columns=['Node1',\"Node2\"])\n",
    "data_ntrk['Node1']=pd.Series(data_dist[\"Node1\"])\n",
    "data_ntrk['Node2']=pd.Series(data_dist[\"Node2\"])\n",
    "data_ntrk['measure']=1\n",
    "data_ntrk.head()"
   ]
  },
  {
   "cell_type": "code",
   "execution_count": 15,
   "metadata": {},
   "outputs": [],
   "source": [
    "list_cod=clean_it(path_cod)"
   ]
  },
  {
   "cell_type": "code",
   "execution_count": 134,
   "metadata": {},
   "outputs": [
    {
     "name": "stdout",
     "output_type": "stream",
     "text": [
      "Please type the id of the node you want to start with: 1\n",
      "Please type the metric you prefer. The options are distance, time, network: network\n",
      "Please type the numerical value of the chosen metric: 5\n",
      "{1048577, 1803}\n"
     ]
    }
   ],
   "source": [
    "                       ########### Function to get the neighbouring nodes ##############\n",
    "\n",
    "v=int(input(\"Please type the id of the node you want to start with: \"))\n",
    "metric=input(\"Please type the metric you prefer. The options are distance, time, network: \")\n",
    "val=int(input(\"Please type the numerical value of the chosen metric: \"))\n",
    "if (metric==\"distance\"):\n",
    "    def neighbours(v,val):\n",
    "        neighbour = data_dist[(data_dist['Node1'] == v) & (data_dist['measure'] <= val)]\n",
    "        l_n = len(neighbour)\n",
    "\n",
    "        if l_n>0:\n",
    "            output = neighbour['Node2'].tolist()\n",
    "            for k in output:\n",
    "                d = data_dist[(data_dist['Node1'] == v) & (data_dist['Node2'] == nodo2)]\n",
    "                d =int(d['measure'])\n",
    "                neighbour=pd.concat([neighbour,neighbours(k, val-d)]).drop_duplicates().reset_index(drop=True)\n",
    "        return neighbour\n",
    "    neighbour=neighbours(v,val)\n",
    "    result = set(neighbour['k'].tolist())\n",
    "    print(result)\n",
    "elif(metric==\"time\"):\n",
    "    def neighbours(v,val):\n",
    "        neighbour = data_time[(data_time['Node1'] == v) & (data_time['measure'] <= val)]\n",
    "        l_n = len(neighbour)\n",
    "\n",
    "        if l_n>0:\n",
    "            output = neighbour['Node2'].tolist()\n",
    "            for k in output:\n",
    "                d = data_dist[(data_time['Node1'] == v) & (data_time['Node2'] == k)]\n",
    "                d =int(d['measure'])\n",
    "                neighbour=pd.concat([neighbour,neighbours(k, val-d)]).drop_duplicates().reset_index(drop=True)\n",
    "        return neighbour\n",
    "    neighbour=neighbours(v,val)\n",
    "    result = set(neighbour['Node2'].tolist())\n",
    "    print(result)\n",
    "else: \n",
    "    print(\"Wrong option chosen\")"
   ]
  },
  {
   "cell_type": "code",
   "execution_count": null,
   "metadata": {},
   "outputs": [],
   "source": []
  },
  {
   "cell_type": "code",
   "execution_count": null,
   "metadata": {},
   "outputs": [],
   "source": []
  }
 ],
 "metadata": {
  "kernelspec": {
   "display_name": "Python 3",
   "language": "python",
   "name": "python3"
  },
  "language_info": {
   "codemirror_mode": {
    "name": "ipython",
    "version": 3
   },
   "file_extension": ".py",
   "mimetype": "text/x-python",
   "name": "python",
   "nbconvert_exporter": "python",
   "pygments_lexer": "ipython3",
   "version": "3.7.1"
  }
 },
 "nbformat": 4,
 "nbformat_minor": 2
}
