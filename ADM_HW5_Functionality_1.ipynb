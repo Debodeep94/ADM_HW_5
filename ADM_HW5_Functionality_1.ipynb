{
 "cells": [
  {
   "cell_type": "code",
   "execution_count": 1,
   "metadata": {},
   "outputs": [],
   "source": [
    "import pandas as pd\n",
    "import numpy as np\n",
    "import networkx as nx\n",
    "from collections import defaultdict"
   ]
  },
  {
   "cell_type": "code",
   "execution_count": 2,
   "metadata": {},
   "outputs": [],
   "source": [
    "def clean_it(path):\n",
    "    with open(path, 'r') as f:\n",
    "        lst = f.readlines()\n",
    "        out = []\n",
    "        for i in lst:\n",
    "            row = i[2:-1] # deleting all elements we don't need \n",
    "            out.append(row)\n",
    "        clean_out = out[7:]\n",
    "        clean_out2 = []\n",
    "        for j in range(len(clean_out)):\n",
    "            clean_out2.append(list(map(int, clean_out[j].split())))        \n",
    "    return clean_out2"
   ]
  },
  {
   "cell_type": "code",
   "execution_count": 3,
   "metadata": {},
   "outputs": [],
   "source": [
    "path_dist=\"C:\\\\Users\\Debodeep\\Documents\\Sapienza Learning Materials\\ADM\\ADMHw5\"+\"\\\\USA-road-d.CAL.gr\"\n",
    "path_time=\"C:\\\\Users\\Debodeep\\Documents\\Sapienza Learning Materials\\ADM\\ADMHw5\"+\"\\\\USA-road-t.CAL.gr\"\n",
    "path_cod= \"C:\\\\Users\\Debodeep\\Documents\\Sapienza Learning Materials\\ADM\\ADMHw5\"+\"\\\\USA-road-d.CAL.co\""
   ]
  },
  {
   "cell_type": "code",
   "execution_count": 4,
   "metadata": {},
   "outputs": [],
   "source": [
    "list_dist=clean_it(path_dist)\n",
    "list_time=clean_it(path_time)\n",
    "list_cod=clean_it(path_cod)"
   ]
  },
  {
   "cell_type": "code",
   "execution_count": 5,
   "metadata": {},
   "outputs": [
    {
     "data": {
      "text/html": [
       "<div>\n",
       "<style scoped>\n",
       "    .dataframe tbody tr th:only-of-type {\n",
       "        vertical-align: middle;\n",
       "    }\n",
       "\n",
       "    .dataframe tbody tr th {\n",
       "        vertical-align: top;\n",
       "    }\n",
       "\n",
       "    .dataframe thead th {\n",
       "        text-align: right;\n",
       "    }\n",
       "</style>\n",
       "<table border=\"1\" class=\"dataframe\">\n",
       "  <thead>\n",
       "    <tr style=\"text-align: right;\">\n",
       "      <th></th>\n",
       "      <th>Node_a</th>\n",
       "      <th>Node_b</th>\n",
       "      <th>dist</th>\n",
       "    </tr>\n",
       "  </thead>\n",
       "  <tbody>\n",
       "    <tr>\n",
       "      <td>0</td>\n",
       "      <td>1</td>\n",
       "      <td>1048577</td>\n",
       "      <td>456</td>\n",
       "    </tr>\n",
       "    <tr>\n",
       "      <td>1</td>\n",
       "      <td>1048577</td>\n",
       "      <td>1</td>\n",
       "      <td>456</td>\n",
       "    </tr>\n",
       "    <tr>\n",
       "      <td>2</td>\n",
       "      <td>2</td>\n",
       "      <td>1048578</td>\n",
       "      <td>2389</td>\n",
       "    </tr>\n",
       "    <tr>\n",
       "      <td>3</td>\n",
       "      <td>1048578</td>\n",
       "      <td>2</td>\n",
       "      <td>2389</td>\n",
       "    </tr>\n",
       "    <tr>\n",
       "      <td>4</td>\n",
       "      <td>3</td>\n",
       "      <td>1048579</td>\n",
       "      <td>358</td>\n",
       "    </tr>\n",
       "  </tbody>\n",
       "</table>\n",
       "</div>"
      ],
      "text/plain": [
       "    Node_a   Node_b  dist\n",
       "0        1  1048577   456\n",
       "1  1048577        1   456\n",
       "2        2  1048578  2389\n",
       "3  1048578        2  2389\n",
       "4        3  1048579   358"
      ]
     },
     "execution_count": 5,
     "metadata": {},
     "output_type": "execute_result"
    }
   ],
   "source": [
    "data_dist=pd.DataFrame(list_dist)\n",
    "data_dist.columns=[\"Node_a\",\"Node_b\",\"dist\"]\n",
    "data_dist.head()"
   ]
  },
  {
   "cell_type": "code",
   "execution_count": 6,
   "metadata": {},
   "outputs": [
    {
     "data": {
      "text/html": [
       "<div>\n",
       "<style scoped>\n",
       "    .dataframe tbody tr th:only-of-type {\n",
       "        vertical-align: middle;\n",
       "    }\n",
       "\n",
       "    .dataframe tbody tr th {\n",
       "        vertical-align: top;\n",
       "    }\n",
       "\n",
       "    .dataframe thead th {\n",
       "        text-align: right;\n",
       "    }\n",
       "</style>\n",
       "<table border=\"1\" class=\"dataframe\">\n",
       "  <thead>\n",
       "    <tr style=\"text-align: right;\">\n",
       "      <th></th>\n",
       "      <th>Node_a</th>\n",
       "      <th>Node_b</th>\n",
       "      <th>dist</th>\n",
       "    </tr>\n",
       "  </thead>\n",
       "  <tbody>\n",
       "    <tr>\n",
       "      <td>0</td>\n",
       "      <td>1</td>\n",
       "      <td>1048577</td>\n",
       "      <td>1139</td>\n",
       "    </tr>\n",
       "    <tr>\n",
       "      <td>1</td>\n",
       "      <td>1048577</td>\n",
       "      <td>1</td>\n",
       "      <td>1139</td>\n",
       "    </tr>\n",
       "    <tr>\n",
       "      <td>2</td>\n",
       "      <td>2</td>\n",
       "      <td>1048578</td>\n",
       "      <td>5972</td>\n",
       "    </tr>\n",
       "    <tr>\n",
       "      <td>3</td>\n",
       "      <td>1048578</td>\n",
       "      <td>2</td>\n",
       "      <td>5972</td>\n",
       "    </tr>\n",
       "    <tr>\n",
       "      <td>4</td>\n",
       "      <td>3</td>\n",
       "      <td>1048579</td>\n",
       "      <td>895</td>\n",
       "    </tr>\n",
       "  </tbody>\n",
       "</table>\n",
       "</div>"
      ],
      "text/plain": [
       "    Node_a   Node_b  dist\n",
       "0        1  1048577  1139\n",
       "1  1048577        1  1139\n",
       "2        2  1048578  5972\n",
       "3  1048578        2  5972\n",
       "4        3  1048579   895"
      ]
     },
     "execution_count": 6,
     "metadata": {},
     "output_type": "execute_result"
    }
   ],
   "source": [
    "data_time=pd.DataFrame(list_time)\n",
    "data_time.columns=[\"Node_a\",\"Node_b\",\"dist\"]\n",
    "data_time.head()"
   ]
  },
  {
   "cell_type": "code",
   "execution_count": 7,
   "metadata": {},
   "outputs": [
    {
     "data": {
      "text/html": [
       "<div>\n",
       "<style scoped>\n",
       "    .dataframe tbody tr th:only-of-type {\n",
       "        vertical-align: middle;\n",
       "    }\n",
       "\n",
       "    .dataframe tbody tr th {\n",
       "        vertical-align: top;\n",
       "    }\n",
       "\n",
       "    .dataframe thead th {\n",
       "        text-align: right;\n",
       "    }\n",
       "</style>\n",
       "<table border=\"1\" class=\"dataframe\">\n",
       "  <thead>\n",
       "    <tr style=\"text-align: right;\">\n",
       "      <th></th>\n",
       "      <th>Node_a</th>\n",
       "      <th>Node_b</th>\n",
       "      <th>dist</th>\n",
       "    </tr>\n",
       "  </thead>\n",
       "  <tbody>\n",
       "    <tr>\n",
       "      <td>0</td>\n",
       "      <td>1</td>\n",
       "      <td>1048577</td>\n",
       "      <td>1</td>\n",
       "    </tr>\n",
       "    <tr>\n",
       "      <td>1</td>\n",
       "      <td>1048577</td>\n",
       "      <td>1</td>\n",
       "      <td>1</td>\n",
       "    </tr>\n",
       "    <tr>\n",
       "      <td>2</td>\n",
       "      <td>2</td>\n",
       "      <td>1048578</td>\n",
       "      <td>1</td>\n",
       "    </tr>\n",
       "    <tr>\n",
       "      <td>3</td>\n",
       "      <td>1048578</td>\n",
       "      <td>2</td>\n",
       "      <td>1</td>\n",
       "    </tr>\n",
       "    <tr>\n",
       "      <td>4</td>\n",
       "      <td>3</td>\n",
       "      <td>1048579</td>\n",
       "      <td>1</td>\n",
       "    </tr>\n",
       "  </tbody>\n",
       "</table>\n",
       "</div>"
      ],
      "text/plain": [
       "    Node_a   Node_b  dist\n",
       "0        1  1048577     1\n",
       "1  1048577        1     1\n",
       "2        2  1048578     1\n",
       "3  1048578        2     1\n",
       "4        3  1048579     1"
      ]
     },
     "execution_count": 7,
     "metadata": {},
     "output_type": "execute_result"
    }
   ],
   "source": [
    "data_ntrk=pd.DataFrame(columns=['Node_a',\"Node_b\"])\n",
    "data_ntrk['Node_a']=pd.Series(data_dist[\"Node_a\"])\n",
    "data_ntrk['Node_b']=pd.Series(data_dist[\"Node_b\"])\n",
    "data_ntrk['dist']=1\n",
    "data_ntrk.head()"
   ]
  },
  {
   "cell_type": "code",
   "execution_count": 12,
   "metadata": {},
   "outputs": [
    {
     "name": "stdout",
     "output_type": "stream",
     "text": [
      "Please type the id of the node you want to start with: 1\n",
      "Please type the metric you prefer. The options are distance, time, network: distance\n",
      "Please type the numerical value of the chosen metric: 4000\n"
     ]
    },
    {
     "name": "stderr",
     "output_type": "stream",
     "text": [
      "C:\\Users\\Debodeep\\Anaconda3\\lib\\site-packages\\ipykernel_launcher.py:9: SettingWithCopyWarning: \n",
      "A value is trying to be set on a copy of a slice from a DataFrame.\n",
      "Try using .loc[row_indexer,col_indexer] = value instead\n",
      "\n",
      "See the caveats in the documentation: http://pandas.pydata.org/pandas-docs/stable/user_guide/indexing.html#returning-a-view-versus-a-copy\n",
      "  if __name__ == '__main__':\n"
     ]
    },
    {
     "data": {
      "text/plain": [
       "[1048577, 1803, 2589]"
      ]
     },
     "execution_count": 12,
     "metadata": {},
     "output_type": "execute_result"
    }
   ],
   "source": [
    "                       ########### Function to get the neighbouring nodes ##############\n",
    "\n",
    "v=int(input(\"Please type the id of the node you want to start with: \"))\n",
    "metric=input(\"Please type the metric you prefer. The options are distance, time, network: \")\n",
    "val=int(input(\"Please type the numerical value of the chosen metric: \"))\n",
    "if (metric==\"distance\"):\n",
    "    def recursive_function(node_a,distance,the_list):\n",
    "        df2 = data_dist[(data_dist.Node_a==node_a) & (data_dist.dist <= distance) & (~data_dist.Node_b.isin(the_list))]\n",
    "        df2['dist_left'] = distance-df2['dist']\n",
    "        the_list.extend(list(df2.Node_b))\n",
    "        n = df2[['Node_b','dist_left']].shape[0]\n",
    "        for i in range(n):\n",
    "            recursive_function(df2.iloc[i,1],df2.iloc[i,3],the_list) #applying the search recursively\n",
    "    def call_function(node_a,distance):\n",
    "        the_list=[]\n",
    "        recursive_function(node_a,distance,the_list)\n",
    "        the_list = list(set(the_list)) #removing duplicates\n",
    "        the_list.remove(node_a)\n",
    "        return(the_list) \n",
    "elif(metric==\"time\"):\n",
    "    def recursive_function(node_a,distance,the_list):\n",
    "        df2 = data_time[(data_time.Node_a==node_a) & (data_dist.time <= distance) & (~data_time.Node_b.isin(the_list))]\n",
    "        df2['dist_left'] = distance-df2['dist']\n",
    "        the_list.extend(list(df2.Node_b))\n",
    "        n = df2[['Node_b','dist_left']].shape[0]\n",
    "        for i in range(n):\n",
    "            recursive_function(df2.iloc[i,1],df2.iloc[i,3],the_list) #applying the search recursively\n",
    "    def call_function(node_a,distance):\n",
    "        the_list=[]\n",
    "        recursive_function(node_a,distance,the_list)\n",
    "        the_list = list(set(the_list)) #removing duplicates\n",
    "        the_list.remove(node_a)\n",
    "        return(the_list) \n",
    "else: \n",
    "    print(\"Wrong option chosen\")\n",
    "call_function(v,val)"
   ]
  },
  {
   "cell_type": "code",
   "execution_count": null,
   "metadata": {},
   "outputs": [],
   "source": []
  },
  {
   "cell_type": "code",
   "execution_count": null,
   "metadata": {},
   "outputs": [],
   "source": []
  },
  {
   "cell_type": "code",
   "execution_count": null,
   "metadata": {},
   "outputs": [],
   "source": []
  },
  {
   "cell_type": "code",
   "execution_count": null,
   "metadata": {},
   "outputs": [],
   "source": []
  },
  {
   "cell_type": "code",
   "execution_count": null,
   "metadata": {},
   "outputs": [],
   "source": []
  }
 ],
 "metadata": {
  "kernelspec": {
   "display_name": "Python 3",
   "language": "python",
   "name": "python3"
  },
  "language_info": {
   "codemirror_mode": {
    "name": "ipython",
    "version": 3
   },
   "file_extension": ".py",
   "mimetype": "text/x-python",
   "name": "python",
   "nbconvert_exporter": "python",
   "pygments_lexer": "ipython3",
   "version": "3.7.1"
  }
 },
 "nbformat": 4,
 "nbformat_minor": 2
}
