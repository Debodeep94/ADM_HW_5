{
 "cells": [
  {
   "cell_type": "code",
   "execution_count": 206,
   "metadata": {},
   "outputs": [],
   "source": [
    "import pandas as pd\n",
    "import networkx as nx\n",
    "from tqdm import tqdm\n",
    "import pickle\n",
    "import itertools\n",
    "from itertools import permutations\n",
    "import folium\n",
    "import numpy as np\n",
    "import decimal\n",
    "from  more_itertools import unique_everseen\n",
    "\n",
    "\n",
    "from collections import defaultdict\n",
    "from tqdm import tqdm_notebook"
   ]
  },
  {
   "cell_type": "markdown",
   "metadata": {},
   "source": [
    "## Organizing pandas"
   ]
  },
  {
   "cell_type": "markdown",
   "metadata": {},
   "source": [
    "### 1. Coordinates (Node information file)"
   ]
  },
  {
   "cell_type": "code",
   "execution_count": 93,
   "metadata": {},
   "outputs": [
    {
     "name": "stderr",
     "output_type": "stream",
     "text": [
      "C:\\Users\\Luca\\Anaconda3\\lib\\site-packages\\IPython\\core\\interactiveshell.py:3057: DtypeWarning: Columns (1,2,3,4,5,6) have mixed types. Specify dtype option on import or set low_memory=False.\n",
      "  interactivity=interactivity, compiler=compiler, result=result)\n"
     ]
    }
   ],
   "source": [
    "coordinates = pd.read_csv(r\"C:\\Users\\Luca\\Desktop\\WIP\\ADM HW 5\\data\\USA-road-d.CAL.co\", sep=' ', delimiter=None,\n",
    "                      index_col=None, usecols=None, encoding='ISO-8859-1')"
   ]
  },
  {
   "cell_type": "code",
   "execution_count": 94,
   "metadata": {},
   "outputs": [],
   "source": [
    "# combining two columns pandas\n",
    "coordinates['combined']=coordinates['c'].astype(str)+''+coordinates['9th'].astype(str)"
   ]
  },
  {
   "cell_type": "code",
   "execution_count": 95,
   "metadata": {},
   "outputs": [],
   "source": [
    "coordinates = coordinates.iloc[6:] # deleting the first 5 rows"
   ]
  },
  {
   "cell_type": "code",
   "execution_count": 96,
   "metadata": {},
   "outputs": [],
   "source": [
    "# organizing pandas DF\n",
    "coordinates.drop(['c', '9th', 'Challenge:', 'Shortest', 'Paths'], axis=1, inplace=True)"
   ]
  },
  {
   "cell_type": "code",
   "execution_count": 97,
   "metadata": {},
   "outputs": [],
   "source": [
    "coordinates.columns = ['Latitude', 'Longitude', 'Id_Node']"
   ]
  },
  {
   "cell_type": "code",
   "execution_count": 98,
   "metadata": {},
   "outputs": [],
   "source": [
    "coordinates = coordinates.reset_index(drop=True)"
   ]
  },
  {
   "cell_type": "code",
   "execution_count": 99,
   "metadata": {},
   "outputs": [],
   "source": [
    "# Transform all str into int\n",
    "coordinates[['Latitude', 'Longitude']] = coordinates[['Latitude', 'Longitude']].astype(int)"
   ]
  },
  {
   "cell_type": "code",
   "execution_count": 100,
   "metadata": {},
   "outputs": [
    {
     "data": {
      "text/html": [
       "<div>\n",
       "<style scoped>\n",
       "    .dataframe tbody tr th:only-of-type {\n",
       "        vertical-align: middle;\n",
       "    }\n",
       "\n",
       "    .dataframe tbody tr th {\n",
       "        vertical-align: top;\n",
       "    }\n",
       "\n",
       "    .dataframe thead th {\n",
       "        text-align: right;\n",
       "    }\n",
       "</style>\n",
       "<table border=\"1\" class=\"dataframe\">\n",
       "  <thead>\n",
       "    <tr style=\"text-align: right;\">\n",
       "      <th></th>\n",
       "      <th>Latitude</th>\n",
       "      <th>Longitude</th>\n",
       "      <th>Id_Node</th>\n",
       "    </tr>\n",
       "  </thead>\n",
       "  <tbody>\n",
       "    <tr>\n",
       "      <th>0</th>\n",
       "      <td>-114315309</td>\n",
       "      <td>34133550</td>\n",
       "      <td>v1</td>\n",
       "    </tr>\n",
       "    <tr>\n",
       "      <th>1</th>\n",
       "      <td>-114223946</td>\n",
       "      <td>34176221</td>\n",
       "      <td>v2</td>\n",
       "    </tr>\n",
       "    <tr>\n",
       "      <th>2</th>\n",
       "      <td>-114307299</td>\n",
       "      <td>34148791</td>\n",
       "      <td>v3</td>\n",
       "    </tr>\n",
       "    <tr>\n",
       "      <th>3</th>\n",
       "      <td>-114318765</td>\n",
       "      <td>34138889</td>\n",
       "      <td>v4</td>\n",
       "    </tr>\n",
       "    <tr>\n",
       "      <th>4</th>\n",
       "      <td>-114347300</td>\n",
       "      <td>34042614</td>\n",
       "      <td>v5</td>\n",
       "    </tr>\n",
       "    <tr>\n",
       "      <th>5</th>\n",
       "      <td>-114347162</td>\n",
       "      <td>34058931</td>\n",
       "      <td>v6</td>\n",
       "    </tr>\n",
       "    <tr>\n",
       "      <th>6</th>\n",
       "      <td>-114126950</td>\n",
       "      <td>33988170</td>\n",
       "      <td>v7</td>\n",
       "    </tr>\n",
       "    <tr>\n",
       "      <th>7</th>\n",
       "      <td>-114347268</td>\n",
       "      <td>34028261</td>\n",
       "      <td>v8</td>\n",
       "    </tr>\n",
       "    <tr>\n",
       "      <th>8</th>\n",
       "      <td>-114340613</td>\n",
       "      <td>34042519</td>\n",
       "      <td>v9</td>\n",
       "    </tr>\n",
       "    <tr>\n",
       "      <th>9</th>\n",
       "      <td>-114324855</td>\n",
       "      <td>34042664</td>\n",
       "      <td>v10</td>\n",
       "    </tr>\n",
       "    <tr>\n",
       "      <th>10</th>\n",
       "      <td>-114321159</td>\n",
       "      <td>34039788</td>\n",
       "      <td>v11</td>\n",
       "    </tr>\n",
       "    <tr>\n",
       "      <th>11</th>\n",
       "      <td>-114276414</td>\n",
       "      <td>33619404</td>\n",
       "      <td>v12</td>\n",
       "    </tr>\n",
       "    <tr>\n",
       "      <th>12</th>\n",
       "      <td>-114273272</td>\n",
       "      <td>33617554</td>\n",
       "      <td>v13</td>\n",
       "    </tr>\n",
       "    <tr>\n",
       "      <th>13</th>\n",
       "      <td>-114494638</td>\n",
       "      <td>33877999</td>\n",
       "      <td>v14</td>\n",
       "    </tr>\n",
       "    <tr>\n",
       "      <th>14</th>\n",
       "      <td>-114528302</td>\n",
       "      <td>33853877</td>\n",
       "      <td>v15</td>\n",
       "    </tr>\n",
       "    <tr>\n",
       "      <th>15</th>\n",
       "      <td>-114485717</td>\n",
       "      <td>33926469</td>\n",
       "      <td>v16</td>\n",
       "    </tr>\n",
       "    <tr>\n",
       "      <th>16</th>\n",
       "      <td>-114498651</td>\n",
       "      <td>33926500</td>\n",
       "      <td>v17</td>\n",
       "    </tr>\n",
       "    <tr>\n",
       "      <th>17</th>\n",
       "      <td>-114500393</td>\n",
       "      <td>33897364</td>\n",
       "      <td>v18</td>\n",
       "    </tr>\n",
       "    <tr>\n",
       "      <th>18</th>\n",
       "      <td>-114517895</td>\n",
       "      <td>33926603</td>\n",
       "      <td>v19</td>\n",
       "    </tr>\n",
       "    <tr>\n",
       "      <th>19</th>\n",
       "      <td>-114506838</td>\n",
       "      <td>33949492</td>\n",
       "      <td>v20</td>\n",
       "    </tr>\n",
       "  </tbody>\n",
       "</table>\n",
       "</div>"
      ],
      "text/plain": [
       "     Latitude  Longitude Id_Node\n",
       "0  -114315309   34133550      v1\n",
       "1  -114223946   34176221      v2\n",
       "2  -114307299   34148791      v3\n",
       "3  -114318765   34138889      v4\n",
       "4  -114347300   34042614      v5\n",
       "5  -114347162   34058931      v6\n",
       "6  -114126950   33988170      v7\n",
       "7  -114347268   34028261      v8\n",
       "8  -114340613   34042519      v9\n",
       "9  -114324855   34042664     v10\n",
       "10 -114321159   34039788     v11\n",
       "11 -114276414   33619404     v12\n",
       "12 -114273272   33617554     v13\n",
       "13 -114494638   33877999     v14\n",
       "14 -114528302   33853877     v15\n",
       "15 -114485717   33926469     v16\n",
       "16 -114498651   33926500     v17\n",
       "17 -114500393   33897364     v18\n",
       "18 -114517895   33926603     v19\n",
       "19 -114506838   33949492     v20"
      ]
     },
     "execution_count": 100,
     "metadata": {},
     "output_type": "execute_result"
    }
   ],
   "source": [
    "coordinates.head(20)"
   ]
  },
  {
   "cell_type": "markdown",
   "metadata": {},
   "source": [
    "### 2. Distance graph"
   ]
  },
  {
   "cell_type": "code",
   "execution_count": 198,
   "metadata": {},
   "outputs": [
    {
     "name": "stderr",
     "output_type": "stream",
     "text": [
      "b'Skipping line 6: expected 7 fields, saw 8\\n'\n",
      "C:\\Users\\Luca\\Anaconda3\\lib\\site-packages\\IPython\\core\\interactiveshell.py:3057: DtypeWarning: Columns (1,2,3) have mixed types. Specify dtype option on import or set low_memory=False.\n",
      "  interactivity=interactivity, compiler=compiler, result=result)\n"
     ]
    }
   ],
   "source": [
    "distance = pd.read_csv(r\"data\\USA-road-d.CAL.gr\", sep=' ', delimiter=None,\n",
    "                      index_col=None, usecols=None, encoding='ISO-8859-1', error_bad_lines=False)"
   ]
  },
  {
   "cell_type": "code",
   "execution_count": 199,
   "metadata": {},
   "outputs": [],
   "source": [
    "distance = distance.iloc[6:] # deleting the first 5 rows"
   ]
  },
  {
   "cell_type": "code",
   "execution_count": 200,
   "metadata": {},
   "outputs": [],
   "source": [
    "# organizing pandas DF\n",
    "distance.drop(['c','Challenge:', 'Shortest', 'Paths'], axis=1, inplace=True)"
   ]
  },
  {
   "cell_type": "markdown",
   "metadata": {},
   "source": [
    "(Id_Node1, Id_Node2, d(Id_Node1,Id_Node2)), where d(x,y) is the physical distance between x and y."
   ]
  },
  {
   "cell_type": "code",
   "execution_count": 201,
   "metadata": {},
   "outputs": [],
   "source": [
    "distance.columns = ['Id_Node1', 'Id_Node2', 'Distance']"
   ]
  },
  {
   "cell_type": "code",
   "execution_count": 202,
   "metadata": {},
   "outputs": [],
   "source": [
    "distance = distance.reset_index(drop=True)"
   ]
  },
  {
   "cell_type": "code",
   "execution_count": 203,
   "metadata": {},
   "outputs": [],
   "source": [
    "# Transform all str into int\n",
    "distance = distance.astype(int)"
   ]
  },
  {
   "cell_type": "code",
   "execution_count": 204,
   "metadata": {},
   "outputs": [
    {
     "data": {
      "text/html": [
       "<div>\n",
       "<style scoped>\n",
       "    .dataframe tbody tr th:only-of-type {\n",
       "        vertical-align: middle;\n",
       "    }\n",
       "\n",
       "    .dataframe tbody tr th {\n",
       "        vertical-align: top;\n",
       "    }\n",
       "\n",
       "    .dataframe thead th {\n",
       "        text-align: right;\n",
       "    }\n",
       "</style>\n",
       "<table border=\"1\" class=\"dataframe\">\n",
       "  <thead>\n",
       "    <tr style=\"text-align: right;\">\n",
       "      <th></th>\n",
       "      <th>Id_Node1</th>\n",
       "      <th>Id_Node2</th>\n",
       "      <th>Distance</th>\n",
       "    </tr>\n",
       "  </thead>\n",
       "  <tbody>\n",
       "    <tr>\n",
       "      <th>0</th>\n",
       "      <td>1048577</td>\n",
       "      <td>1</td>\n",
       "      <td>456</td>\n",
       "    </tr>\n",
       "    <tr>\n",
       "      <th>1</th>\n",
       "      <td>2</td>\n",
       "      <td>1048578</td>\n",
       "      <td>2389</td>\n",
       "    </tr>\n",
       "    <tr>\n",
       "      <th>2</th>\n",
       "      <td>1048578</td>\n",
       "      <td>2</td>\n",
       "      <td>2389</td>\n",
       "    </tr>\n",
       "    <tr>\n",
       "      <th>3</th>\n",
       "      <td>3</td>\n",
       "      <td>1048579</td>\n",
       "      <td>358</td>\n",
       "    </tr>\n",
       "    <tr>\n",
       "      <th>4</th>\n",
       "      <td>1048579</td>\n",
       "      <td>3</td>\n",
       "      <td>358</td>\n",
       "    </tr>\n",
       "    <tr>\n",
       "      <th>5</th>\n",
       "      <td>4</td>\n",
       "      <td>1048579</td>\n",
       "      <td>14901</td>\n",
       "    </tr>\n",
       "    <tr>\n",
       "      <th>6</th>\n",
       "      <td>1048579</td>\n",
       "      <td>4</td>\n",
       "      <td>14901</td>\n",
       "    </tr>\n",
       "    <tr>\n",
       "      <th>7</th>\n",
       "      <td>5</td>\n",
       "      <td>6</td>\n",
       "      <td>18133</td>\n",
       "    </tr>\n",
       "    <tr>\n",
       "      <th>8</th>\n",
       "      <td>6</td>\n",
       "      <td>5</td>\n",
       "      <td>18133</td>\n",
       "    </tr>\n",
       "    <tr>\n",
       "      <th>9</th>\n",
       "      <td>7</td>\n",
       "      <td>1048580</td>\n",
       "      <td>2463</td>\n",
       "    </tr>\n",
       "    <tr>\n",
       "      <th>10</th>\n",
       "      <td>1048580</td>\n",
       "      <td>7</td>\n",
       "      <td>2463</td>\n",
       "    </tr>\n",
       "    <tr>\n",
       "      <th>11</th>\n",
       "      <td>8</td>\n",
       "      <td>1048581</td>\n",
       "      <td>14944</td>\n",
       "    </tr>\n",
       "    <tr>\n",
       "      <th>12</th>\n",
       "      <td>1048581</td>\n",
       "      <td>8</td>\n",
       "      <td>14944</td>\n",
       "    </tr>\n",
       "    <tr>\n",
       "      <th>13</th>\n",
       "      <td>9</td>\n",
       "      <td>1048583</td>\n",
       "      <td>10049</td>\n",
       "    </tr>\n",
       "    <tr>\n",
       "      <th>14</th>\n",
       "      <td>1048583</td>\n",
       "      <td>9</td>\n",
       "      <td>10049</td>\n",
       "    </tr>\n",
       "    <tr>\n",
       "      <th>15</th>\n",
       "      <td>1048583</td>\n",
       "      <td>10</td>\n",
       "      <td>4462</td>\n",
       "    </tr>\n",
       "    <tr>\n",
       "      <th>16</th>\n",
       "      <td>10</td>\n",
       "      <td>1048583</td>\n",
       "      <td>4462</td>\n",
       "    </tr>\n",
       "    <tr>\n",
       "      <th>17</th>\n",
       "      <td>10</td>\n",
       "      <td>1048584</td>\n",
       "      <td>2630</td>\n",
       "    </tr>\n",
       "    <tr>\n",
       "      <th>18</th>\n",
       "      <td>1048584</td>\n",
       "      <td>10</td>\n",
       "      <td>2630</td>\n",
       "    </tr>\n",
       "    <tr>\n",
       "      <th>19</th>\n",
       "      <td>1048584</td>\n",
       "      <td>11</td>\n",
       "      <td>2041</td>\n",
       "    </tr>\n",
       "  </tbody>\n",
       "</table>\n",
       "</div>"
      ],
      "text/plain": [
       "    Id_Node1  Id_Node2  Distance\n",
       "0    1048577         1       456\n",
       "1          2   1048578      2389\n",
       "2    1048578         2      2389\n",
       "3          3   1048579       358\n",
       "4    1048579         3       358\n",
       "5          4   1048579     14901\n",
       "6    1048579         4     14901\n",
       "7          5         6     18133\n",
       "8          6         5     18133\n",
       "9          7   1048580      2463\n",
       "10   1048580         7      2463\n",
       "11         8   1048581     14944\n",
       "12   1048581         8     14944\n",
       "13         9   1048583     10049\n",
       "14   1048583         9     10049\n",
       "15   1048583        10      4462\n",
       "16        10   1048583      4462\n",
       "17        10   1048584      2630\n",
       "18   1048584        10      2630\n",
       "19   1048584        11      2041"
      ]
     },
     "execution_count": 204,
     "metadata": {},
     "output_type": "execute_result"
    }
   ],
   "source": [
    "distance.head(20)"
   ]
  },
  {
   "cell_type": "markdown",
   "metadata": {},
   "source": [
    "### 3. Time travel graph"
   ]
  },
  {
   "cell_type": "code",
   "execution_count": 8,
   "metadata": {},
   "outputs": [
    {
     "name": "stderr",
     "output_type": "stream",
     "text": [
      "b'Skipping line 6: expected 7 fields, saw 8\\n'\n",
      "C:\\Users\\Luca\\Anaconda3\\lib\\site-packages\\IPython\\core\\interactiveshell.py:3057: DtypeWarning: Columns (1,2,3) have mixed types. Specify dtype option on import or set low_memory=False.\n",
      "  interactivity=interactivity, compiler=compiler, result=result)\n"
     ]
    }
   ],
   "source": [
    "travel = pd.read_csv(r\"data\\USA-road-t.CAL.gr\", sep=' ', delimiter=None,\n",
    "                      index_col=None, usecols=None, encoding='ISO-8859-1', error_bad_lines = False)"
   ]
  },
  {
   "cell_type": "code",
   "execution_count": 9,
   "metadata": {},
   "outputs": [],
   "source": [
    "travel = travel.iloc[6:] # deleting the first 5 rows"
   ]
  },
  {
   "cell_type": "code",
   "execution_count": 10,
   "metadata": {},
   "outputs": [],
   "source": [
    "# organizing pandas DF\n",
    "travel.drop(['c','Challenge:', 'Shortest', 'Paths'], axis=1, inplace=True)"
   ]
  },
  {
   "cell_type": "markdown",
   "metadata": {},
   "source": [
    "(Node1, Node2, t(Id_Node1, Id_Node2))"
   ]
  },
  {
   "cell_type": "code",
   "execution_count": 11,
   "metadata": {},
   "outputs": [],
   "source": [
    "travel.columns = ['Id_Node1', 'Id_Node2', 'Time distance']"
   ]
  },
  {
   "cell_type": "code",
   "execution_count": 12,
   "metadata": {},
   "outputs": [],
   "source": [
    "travel = travel.reset_index(drop=True)"
   ]
  },
  {
   "cell_type": "code",
   "execution_count": 13,
   "metadata": {},
   "outputs": [
    {
     "data": {
      "text/html": [
       "<div>\n",
       "<style scoped>\n",
       "    .dataframe tbody tr th:only-of-type {\n",
       "        vertical-align: middle;\n",
       "    }\n",
       "\n",
       "    .dataframe tbody tr th {\n",
       "        vertical-align: top;\n",
       "    }\n",
       "\n",
       "    .dataframe thead th {\n",
       "        text-align: right;\n",
       "    }\n",
       "</style>\n",
       "<table border=\"1\" class=\"dataframe\">\n",
       "  <thead>\n",
       "    <tr style=\"text-align: right;\">\n",
       "      <th></th>\n",
       "      <th>Id_Node1</th>\n",
       "      <th>Id_Node2</th>\n",
       "      <th>Time distance</th>\n",
       "    </tr>\n",
       "  </thead>\n",
       "  <tbody>\n",
       "    <tr>\n",
       "      <th>0</th>\n",
       "      <td>1048577</td>\n",
       "      <td>1</td>\n",
       "      <td>1139</td>\n",
       "    </tr>\n",
       "    <tr>\n",
       "      <th>1</th>\n",
       "      <td>2</td>\n",
       "      <td>1048578</td>\n",
       "      <td>5972</td>\n",
       "    </tr>\n",
       "    <tr>\n",
       "      <th>2</th>\n",
       "      <td>1048578</td>\n",
       "      <td>2</td>\n",
       "      <td>5972</td>\n",
       "    </tr>\n",
       "    <tr>\n",
       "      <th>3</th>\n",
       "      <td>3</td>\n",
       "      <td>1048579</td>\n",
       "      <td>895</td>\n",
       "    </tr>\n",
       "    <tr>\n",
       "      <th>4</th>\n",
       "      <td>1048579</td>\n",
       "      <td>3</td>\n",
       "      <td>895</td>\n",
       "    </tr>\n",
       "    <tr>\n",
       "      <th>5</th>\n",
       "      <td>4</td>\n",
       "      <td>1048579</td>\n",
       "      <td>37253</td>\n",
       "    </tr>\n",
       "    <tr>\n",
       "      <th>6</th>\n",
       "      <td>1048579</td>\n",
       "      <td>4</td>\n",
       "      <td>37253</td>\n",
       "    </tr>\n",
       "    <tr>\n",
       "      <th>7</th>\n",
       "      <td>5</td>\n",
       "      <td>6</td>\n",
       "      <td>45332</td>\n",
       "    </tr>\n",
       "    <tr>\n",
       "      <th>8</th>\n",
       "      <td>6</td>\n",
       "      <td>5</td>\n",
       "      <td>45332</td>\n",
       "    </tr>\n",
       "    <tr>\n",
       "      <th>9</th>\n",
       "      <td>7</td>\n",
       "      <td>1048580</td>\n",
       "      <td>6158</td>\n",
       "    </tr>\n",
       "    <tr>\n",
       "      <th>10</th>\n",
       "      <td>1048580</td>\n",
       "      <td>7</td>\n",
       "      <td>6158</td>\n",
       "    </tr>\n",
       "    <tr>\n",
       "      <th>11</th>\n",
       "      <td>8</td>\n",
       "      <td>1048581</td>\n",
       "      <td>37360</td>\n",
       "    </tr>\n",
       "    <tr>\n",
       "      <th>12</th>\n",
       "      <td>1048581</td>\n",
       "      <td>8</td>\n",
       "      <td>37360</td>\n",
       "    </tr>\n",
       "    <tr>\n",
       "      <th>13</th>\n",
       "      <td>9</td>\n",
       "      <td>1048583</td>\n",
       "      <td>25122</td>\n",
       "    </tr>\n",
       "    <tr>\n",
       "      <th>14</th>\n",
       "      <td>1048583</td>\n",
       "      <td>9</td>\n",
       "      <td>25122</td>\n",
       "    </tr>\n",
       "    <tr>\n",
       "      <th>15</th>\n",
       "      <td>1048583</td>\n",
       "      <td>10</td>\n",
       "      <td>11156</td>\n",
       "    </tr>\n",
       "    <tr>\n",
       "      <th>16</th>\n",
       "      <td>10</td>\n",
       "      <td>1048583</td>\n",
       "      <td>11156</td>\n",
       "    </tr>\n",
       "    <tr>\n",
       "      <th>17</th>\n",
       "      <td>10</td>\n",
       "      <td>1048584</td>\n",
       "      <td>6576</td>\n",
       "    </tr>\n",
       "    <tr>\n",
       "      <th>18</th>\n",
       "      <td>1048584</td>\n",
       "      <td>10</td>\n",
       "      <td>6576</td>\n",
       "    </tr>\n",
       "    <tr>\n",
       "      <th>19</th>\n",
       "      <td>1048584</td>\n",
       "      <td>11</td>\n",
       "      <td>5102</td>\n",
       "    </tr>\n",
       "  </tbody>\n",
       "</table>\n",
       "</div>"
      ],
      "text/plain": [
       "   Id_Node1 Id_Node2 Time distance\n",
       "0   1048577        1          1139\n",
       "1         2  1048578          5972\n",
       "2   1048578        2          5972\n",
       "3         3  1048579           895\n",
       "4   1048579        3           895\n",
       "5         4  1048579         37253\n",
       "6   1048579        4         37253\n",
       "7         5        6         45332\n",
       "8         6        5         45332\n",
       "9         7  1048580          6158\n",
       "10  1048580        7          6158\n",
       "11        8  1048581         37360\n",
       "12  1048581        8         37360\n",
       "13        9  1048583         25122\n",
       "14  1048583        9         25122\n",
       "15  1048583       10         11156\n",
       "16       10  1048583         11156\n",
       "17       10  1048584          6576\n",
       "18  1048584       10          6576\n",
       "19  1048584       11          5102"
      ]
     },
     "execution_count": 13,
     "metadata": {},
     "output_type": "execute_result"
    }
   ],
   "source": [
    "travel.head(20)"
   ]
  },
  {
   "cell_type": "code",
   "execution_count": 14,
   "metadata": {},
   "outputs": [],
   "source": [
    "# Transform all str into int\n",
    "travel = travel.astype(int)"
   ]
  },
  {
   "cell_type": "markdown",
   "metadata": {},
   "source": [
    "## Part 1. Create data types for nodes and edges"
   ]
  },
  {
   "cell_type": "code",
   "execution_count": null,
   "metadata": {},
   "outputs": [],
   "source": [
    "# Create a list of all nodes\n",
    "nodes =  []\n",
    "nodes.append([i for i in range (1,1890816)])"
   ]
  },
  {
   "cell_type": "code",
   "execution_count": null,
   "metadata": {},
   "outputs": [],
   "source": [
    "# Create a list of set with (Node_1, Node_2)\n",
    "edges = []"
   ]
  },
  {
   "cell_type": "code",
   "execution_count": null,
   "metadata": {},
   "outputs": [],
   "source": [
    "temp_travel = travel.drop(['Time distance'], axis=1)\n",
    "for index, element in tqdm(temp_travel.iterrows()):\n",
    "    edge = [] # couples of edges\n",
    "    edge.extend([element[0], element[1]])\n",
    "    edges.append(edge)"
   ]
  },
  {
   "cell_type": "code",
   "execution_count": null,
   "metadata": {},
   "outputs": [],
   "source": [
    "edges"
   ]
  },
  {
   "cell_type": "markdown",
   "metadata": {},
   "source": [
    "We have to find out if all verteces are bidirectional, to state that it's a bidirectional or directional graph. <br/>\n",
    "Since the data downloaded talkes about Arcs instead of Edges we can assume that it's a directed graph"
   ]
  },
  {
   "cell_type": "code",
   "execution_count": null,
   "metadata": {},
   "outputs": [],
   "source": [
    "with open('outfile', 'wb') as fp:\n",
    "    pickle.dump(edges, fp)"
   ]
  },
  {
   "cell_type": "code",
   "execution_count": 62,
   "metadata": {},
   "outputs": [],
   "source": [
    "with open ('outfile', 'rb') as fp:\n",
    "    edges = pickle.load(fp)"
   ]
  },
  {
   "cell_type": "markdown",
   "metadata": {},
   "source": [
    "### Create the adjacency dictionary"
   ]
  },
  {
   "cell_type": "code",
   "execution_count": 208,
   "metadata": {},
   "outputs": [],
   "source": [
    "adj_dic = {}"
   ]
  },
  {
   "cell_type": "code",
   "execution_count": null,
   "metadata": {},
   "outputs": [],
   "source": [
    "for i in tqdm(edges):\n",
    "    if i[0] not in adj_dic: # check if first node is a key already \n",
    "        \n",
    "        adj_dic[i[0]] = []\n",
    "        adj_dic[i[0]].append(i[1])\n",
    "    \n",
    "    else:\n",
    "        \n",
    "        if i[1] in adj_dic[i[0]]:\n",
    "            continue\n",
    "        else:\n",
    "            adj_dic[i[0]].append(i[1])  # if True check if second node is in dictionary, if not append\n",
    "    \n",
    "    if i[1] not in adj_dic: # check if first node is a key already\n",
    "        \n",
    "        adj_dic[i[1]] = []\n",
    "        adj_dic[i[1]].append(i[0])\n",
    "    \n",
    "    else:\n",
    "        \n",
    "        if i[0] in adj_dic[i[1]]:\n",
    "            continue\n",
    "        else:\n",
    "            adj_dic[i[1]].append(i[0])  # if True check if second node is in dictionary, if not append"
   ]
  },
  {
   "cell_type": "code",
   "execution_count": null,
   "metadata": {},
   "outputs": [],
   "source": [
    "# we saved this dictionary to a picke file so that we don't have to run the code each time\n",
    "with open('adj_dic', 'wb') as fp:\n",
    "    pickle.dump(adj_dic, fp)"
   ]
  },
  {
   "cell_type": "code",
   "execution_count": 210,
   "metadata": {},
   "outputs": [],
   "source": [
    "with open('adj_dic', 'rb') as fp:\n",
    "    adj_dic = pickle.load(fp)"
   ]
  },
  {
   "cell_type": "markdown",
   "metadata": {},
   "source": [
    "### Weighted adjacency matrix"
   ]
  },
  {
   "cell_type": "markdown",
   "metadata": {},
   "source": [
    "#### 1. Time "
   ]
  },
  {
   "cell_type": "code",
   "execution_count": null,
   "metadata": {},
   "outputs": [],
   "source": [
    "graph_trav_dist = defaultdict(list)\n",
    "for row in tqdm_notebook(travel.iterrows()):\n",
    "    if int(row[1][\"Id_Node2\"]) in adj_dic[int(row[1][\"Id_Node1\"])]:\n",
    "        graph_trav_dist[int(row[1][\"Id_Node1\"])].append((int(row[1][\"Id_Node2\"]),int(row[1][\"Time distance\"])))\n",
    "        "
   ]
  },
  {
   "cell_type": "code",
   "execution_count": null,
   "metadata": {},
   "outputs": [],
   "source": [
    "# we saved this dictionary to a picke file so that we don't have to run the code each time\n",
    "with open('adj_dic_travel', 'wb') as fp:\n",
    "    pickle.dump(graph_trav_dist,fp)"
   ]
  },
  {
   "cell_type": "markdown",
   "metadata": {},
   "source": [
    "#### 2. Distance"
   ]
  },
  {
   "cell_type": "code",
   "execution_count": null,
   "metadata": {},
   "outputs": [],
   "source": [
    "graph_ph_dist = defaultdict(list)\n",
    "for row in tqdm_notebook(distance.iterrows()):\n",
    "    if int(row[1][\"Id_Node2\"]) in adj_dic[int(row[1][\"Id_Node1\"])]:\n",
    "        graph_ph_dist[int(row[1][\"Id_Node1\"])].append((int(row[1][\"Id_Node2\"]),int(row[1][\"Distance\"])))\n",
    "        "
   ]
  },
  {
   "cell_type": "code",
   "execution_count": null,
   "metadata": {},
   "outputs": [],
   "source": [
    "# we saved this dictionary to a picke file so that we don't have to run the code each time\n",
    "with open('adj_dic_ph', 'wb') as fp:\n",
    "    pickle.dump(graph_ph_dist,fp)"
   ]
  },
  {
   "cell_type": "markdown",
   "metadata": {},
   "source": [
    "#### 3. Network"
   ]
  },
  {
   "cell_type": "code",
   "execution_count": null,
   "metadata": {},
   "outputs": [],
   "source": [
    "graph_net_dist = defaultdict(list)\n",
    "for row in tqdm_notebook(distance.iterrows()):\n",
    "    if int(row[1][\"Id_Node2\"]) in adj_dic[int(row[1][\"Id_Node1\"])]:\n",
    "        graph_ph_dist[int(row[1][\"Id_Node1\"])].append((int(row[1][\"Id_Node2\"]), 1)\n",
    "        "
   ]
  },
  {
   "cell_type": "code",
   "execution_count": null,
   "metadata": {},
   "outputs": [],
   "source": [
    "# we saved this dictionary to a picke file so that we don't have to run the code each time\n",
    "with open('adj_dic_net', 'wb') as fp:\n",
    "    pickle.dump(graph_ph_dist,fp)"
   ]
  },
  {
   "cell_type": "markdown",
   "metadata": {},
   "source": [
    "## 2.Time travel"
   ]
  },
  {
   "cell_type": "code",
   "execution_count": 30,
   "metadata": {},
   "outputs": [],
   "source": [
    "with open('adj_dic_travel', 'rb') as fp:\n",
    "    graph_trav_dist = pickle.load(fp)"
   ]
  },
  {
   "cell_type": "code",
   "execution_count": 103,
   "metadata": {},
   "outputs": [
    {
     "name": "stdout",
     "output_type": "stream",
     "text": [
      "1 2 3\n"
     ]
    }
   ],
   "source": [
    "set_of_nodes = input()"
   ]
  },
  {
   "cell_type": "code",
   "execution_count": 102,
   "metadata": {},
   "outputs": [],
   "source": [
    "set_of_nodes = set_of_nodes.split(\" \")\n",
    "perm = permutations(set_of_nodes, 2)"
   ]
  },
  {
   "cell_type": "code",
   "execution_count": 34,
   "metadata": {},
   "outputs": [
    {
     "name": "stdout",
     "output_type": "stream",
     "text": [
      "('1', '3')\n",
      "('2', '1')\n",
      "('2', '3')\n",
      "('3', '1')\n",
      "('3', '2')\n"
     ]
    }
   ],
   "source": [
    "nodes = list(graph_trav_dist.keys())\n",
    "distances = graph_trav_dist\n",
    "\n",
    "all_distances = {}\n",
    "\n",
    "for p in perm:\n",
    "    print(p)\n",
    "    unvisited = {node: None for node in nodes} #using None as +inf\n",
    "    visited = {}\n",
    "    current = int(p[0])\n",
    "    end = int(p[1])\n",
    "    currentDistance = 0\n",
    "    unvisited[current] = currentDistance\n",
    "\n",
    "    while True:\n",
    "        for neighbour, distance in distances[current]:\n",
    "            if neighbour not in unvisited: continue\n",
    "            newDistance = currentDistance + distance\n",
    "            if unvisited[neighbour] is None or unvisited[neighbour] > newDistance:\n",
    "                unvisited[neighbour] = newDistance\n",
    "        visited[current] = currentDistance\n",
    "        del unvisited[current]\n",
    "        if not unvisited or current == end: \n",
    "            all_distances[p] = currentDistance\n",
    "            break\n",
    "        candidates = [node for node in unvisited.items() if node[1]]\n",
    "        current, currentDistance = sorted(candidates, key = lambda x: x[1])[0]\n",
    "        "
   ]
  },
  {
   "cell_type": "code",
   "execution_count": 35,
   "metadata": {},
   "outputs": [],
   "source": [
    "candidates = []\n",
    "for pair1 in all_distances:\n",
    "    for pair2 in all_distances:\n",
    "        if pair1[1] == pair2[0] and pair1[0] != pair2[1]:\n",
    "            candidates.append((pair1, pair2))"
   ]
  },
  {
   "cell_type": "code",
   "execution_count": 45,
   "metadata": {},
   "outputs": [],
   "source": [
    "p = permutations(candidates, len(candidates)-1)"
   ]
  },
  {
   "cell_type": "code",
   "execution_count": 46,
   "metadata": {},
   "outputs": [],
   "source": [
    "permu = [i for i in p]"
   ]
  },
  {
   "cell_type": "code",
   "execution_count": null,
   "metadata": {},
   "outputs": [],
   "source": [
    "res = []\n",
    "for i in permu:\n",
    "    \n",
    "    for z in i:\n",
    "        trues = []\n",
    "        print(z)\n",
    "        for j in range(len(candidates)-3):\n",
    "            print(z[j])\n",
    "            trues.append(z[j][1]==z[j+1][0])\n",
    "        if all([l == True for l in trues] ):\n",
    "            res.append(z)\n",
    "            "
   ]
  },
  {
   "cell_type": "code",
   "execution_count": null,
   "metadata": {},
   "outputs": [],
   "source": [
    "distances = []\n",
    "for tuple_ in res[:-1]:\n",
    "    try:\n",
    "        distances.append((all_distances[tuple_[0]] + all_distances[tuple_[1]]))\n",
    "    except:\n",
    "        pass"
   ]
  },
  {
   "cell_type": "code",
   "execution_count": 185,
   "metadata": {},
   "outputs": [],
   "source": [
    "# the best result!\n",
    "best = candidates[distances.index(min(distances))]"
   ]
  },
  {
   "cell_type": "code",
   "execution_count": 186,
   "metadata": {},
   "outputs": [],
   "source": [
    "b = [i for sublist in best for i in sublist]"
   ]
  },
  {
   "cell_type": "code",
   "execution_count": 187,
   "metadata": {},
   "outputs": [],
   "source": [
    "b = list(unique_everseen(b))"
   ]
  },
  {
   "cell_type": "code",
   "execution_count": 188,
   "metadata": {},
   "outputs": [
    {
     "data": {
      "text/plain": [
       "['2', '3', '1']"
      ]
     },
     "execution_count": 188,
     "metadata": {},
     "output_type": "execute_result"
    }
   ],
   "source": [
    "b"
   ]
  },
  {
   "cell_type": "markdown",
   "metadata": {},
   "source": [
    "## Plot "
   ]
  },
  {
   "cell_type": "code",
   "execution_count": 189,
   "metadata": {},
   "outputs": [],
   "source": [
    "map = folium.Map(location = [34.133550,-114.315309], zoom_start = 6)"
   ]
  },
  {
   "cell_type": "code",
   "execution_count": 193,
   "metadata": {},
   "outputs": [],
   "source": [
    "coor = []\n",
    "for node in b:\n",
    "    \n",
    "    longitude = str(coordinates.iloc[int(node)-1]['Longitude'])\n",
    "    longitude = decimal.Decimal(longitude[:2] + \".\" + longitude[2:])\n",
    "    \n",
    "    latitude = str(coordinates.iloc[int(node)-1]['Latitude'])\n",
    "    latitude = decimal.Decimal(latitude[:4] + \".\" + latitude[4:])\n",
    "    \n",
    "    folium.Marker([longitude, latitude]).add_to(map)\n",
    "    coor.append((longitude, latitude))\n"
   ]
  },
  {
   "cell_type": "code",
   "execution_count": 194,
   "metadata": {},
   "outputs": [
    {
     "data": {
      "text/plain": [
       "<folium.vector_layers.PolyLine at 0x19c3442b908>"
      ]
     },
     "execution_count": 194,
     "metadata": {},
     "output_type": "execute_result"
    }
   ],
   "source": [
    "folium.PolyLine(coor).add_to(map)"
   ]
  },
  {
   "cell_type": "code",
   "execution_count": 195,
   "metadata": {},
   "outputs": [
    {
     "data": {
      "text/html": [
       "<div style=\"width:100%;\"><div style=\"position:relative;width:100%;height:0;padding-bottom:60%;\"><iframe src=\"data:text/html;charset=utf-8;base64,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\" style=\"position:absolute;width:100%;height:100%;left:0;top:0;border:none !important;\" allowfullscreen webkitallowfullscreen mozallowfullscreen></iframe></div></div>"
      ],
      "text/plain": [
       "<folium.folium.Map at 0x19c1fa78be0>"
      ]
     },
     "execution_count": 195,
     "metadata": {},
     "output_type": "execute_result"
    }
   ],
   "source": [
    "map"
   ]
  },
  {
   "cell_type": "markdown",
   "metadata": {},
   "source": [
    "## 3. Shortest Ordered Route"
   ]
  },
  {
   "cell_type": "markdown",
   "metadata": {},
   "source": [
    "We'll use Dijkstra algorithm to find the shortest paths"
   ]
  },
  {
   "cell_type": "markdown",
   "metadata": {},
   "source": [
    "### Best Idea"
   ]
  },
  {
   "cell_type": "code",
   "execution_count": null,
   "metadata": {},
   "outputs": [],
   "source": [
    "set_of_nodes = list(map(int, input().split(' ')))"
   ]
  },
  {
   "cell_type": "code",
   "execution_count": null,
   "metadata": {},
   "outputs": [],
   "source": [
    "def walk(graph, set_of_nodes, all_distances = {}):\n",
    "    \n",
    "    print(set_of_nodes)\n",
    "    nodes = list(graph.keys())\n",
    "    distances = graph\n",
    "    \n",
    "    if len(set_of_nodes) == 1:\n",
    "        return all_distances\n",
    "    \n",
    "    for i in range(len(set_of_nodes)-1):\n",
    "        unvisited = {node: None for node in nodes} #using None as +inf\n",
    "        visited = {}\n",
    "        current = set_of_nodes[0]\n",
    "        end = set_of_nodes[1]\n",
    "        currentDistance = 0\n",
    "        unvisited[current] = currentDistance\n",
    "        \n",
    "        while True:\n",
    "            for neighbour, distance in distances[current]:\n",
    "                if neighbour not in unvisited: continue\n",
    "                newDistance = currentDistance + distance\n",
    "                if unvisited[neighbour] is None or unvisited[neighbour] > newDistance:\n",
    "                    unvisited[neighbour] = newDistance\n",
    "            visited[current] = currentDistance\n",
    "            del unvisited[current]\n",
    "            \n",
    "            if current == end: \n",
    "                print('Successful')\n",
    "                all_distances[\"{} -> {}\".format(set_of_nodes[i], end)] = visited\n",
    "                set_of_nodes.pop(0)\n",
    "                walk(graph, set_of_nodes, all_distances)\n",
    "                break\n",
    "            \n",
    "            if not unvisited:\n",
    "                print('Not possible')\n",
    "                break\n",
    "            \n",
    "            if current in set_of_nodes[2:]:\n",
    "                print('Not ordered')\n",
    "                del graph[current]\n",
    "                for v in graph.values():\n",
    "                    for i in v:\n",
    "                        if i[0] == current:\n",
    "                            v.remove(i)               \n",
    "                walk(graph, set_of_nodes, all_distances)\n",
    "            \n",
    "            candidates = [node for node in unvisited.items() if node[1]]\n",
    "            current, currentDistance = sorted(candidates, key = lambda x: x[1])[0]\n"
   ]
  },
  {
   "cell_type": "code",
   "execution_count": null,
   "metadata": {},
   "outputs": [],
   "source": [
    "w = walk(graph_trav_dist, set_of_nodes, {})"
   ]
  },
  {
   "cell_type": "markdown",
   "metadata": {},
   "source": [
    "## Bad Ideas"
   ]
  },
  {
   "cell_type": "markdown",
   "metadata": {},
   "source": [
    "### Create Dijkstra"
   ]
  },
  {
   "cell_type": "code",
   "execution_count": 18,
   "metadata": {},
   "outputs": [],
   "source": [
    "import itertools"
   ]
  },
  {
   "cell_type": "code",
   "execution_count": 2,
   "metadata": {},
   "outputs": [],
   "source": [
    "graph = {1:{2:10, 3:3},2 :{3:1, 4:2},3:{2:4, 4:8, 5:2},4:{5:7},5:{4:9}}"
   ]
  },
  {
   "cell_type": "code",
   "execution_count": 3,
   "metadata": {},
   "outputs": [],
   "source": [
    "shortest_distance = {}\n",
    "predecessor = {}\n",
    "unvisited = graph.copy()\n",
    "path = []\n",
    "for node in unvisited:\n",
    "    shortest_distance[node] = float('inf')\n",
    "shortest_distance[1] = 0"
   ]
  },
  {
   "cell_type": "code",
   "execution_count": 6,
   "metadata": {},
   "outputs": [],
   "source": [
    "while unvisited:\n",
    "    \n",
    "    minNode = None\n",
    "    for node in unvisited:\n",
    "        if minNode is None: # for the first case, when it's empty\n",
    "            minNode = node\n",
    "        elif shortest_distance[node] < shortest_distance[minNode]:\n",
    "            minNode = node\n",
    "            \n",
    "    # main part of the algo\n",
    "    for childNode, weight in graph[minNode].items():\n",
    "        if weight + shortest_distance[minNode] < shortest_distance[childNode]:\n",
    "            shortest_distance[childNode] = weight + shortest_distance[minNode]\n",
    "            predecessor[childNode] = minNode\n",
    "\n",
    "    unvisited.pop(minNode)"
   ]
  },
  {
   "cell_type": "code",
   "execution_count": 7,
   "metadata": {},
   "outputs": [
    {
     "data": {
      "text/plain": [
       "{1: 0, 2: 7, 3: 3, 4: 9, 5: 5}"
      ]
     },
     "execution_count": 7,
     "metadata": {},
     "output_type": "execute_result"
    }
   ],
   "source": [
    "shortest_distance"
   ]
  },
  {
   "cell_type": "code",
   "execution_count": 8,
   "metadata": {},
   "outputs": [
    {
     "data": {
      "text/plain": [
       "{2: 3, 3: 1, 4: 2, 5: 3}"
      ]
     },
     "execution_count": 8,
     "metadata": {},
     "output_type": "execute_result"
    }
   ],
   "source": [
    "predecessor"
   ]
  },
  {
   "cell_type": "markdown",
   "metadata": {},
   "source": [
    "### Create path"
   ]
  },
  {
   "cell_type": "code",
   "execution_count": 19,
   "metadata": {},
   "outputs": [],
   "source": [
    "def find_path(graph, start, end, path=[]):\n",
    "        path = path + [start]\n",
    "        print(\"st:%s, end:%s, path:%s\" % (start,end,path))\n",
    "        if (start == end) or (end in graph[start]) :\n",
    "            return path\n",
    "        if start not in graph:\n",
    "            return None\n",
    "        print(\"available routes: %s\" % graph[start])\n",
    "        for node in graph[start]:\n",
    "            if node not in path:\n",
    "                print(\"next node: %s\" % node)\n",
    "                newpath = find_path(graph, node, end, path)\n",
    "                if newpath: return newpath\n",
    "        return None"
   ]
  },
  {
   "cell_type": "code",
   "execution_count": 20,
   "metadata": {},
   "outputs": [],
   "source": [
    "visit = [2, 5, 4]\n",
    "visit = visit[::-1] # we reverse the list of nodes we want to visit"
   ]
  },
  {
   "cell_type": "code",
   "execution_count": 21,
   "metadata": {},
   "outputs": [],
   "source": [
    "megapath = [] # entire path that we want"
   ]
  },
  {
   "cell_type": "code",
   "execution_count": 22,
   "metadata": {},
   "outputs": [],
   "source": [
    "dis = 0 "
   ]
  },
  {
   "cell_type": "code",
   "execution_count": 23,
   "metadata": {},
   "outputs": [
    {
     "name": "stdout",
     "output_type": "stream",
     "text": [
      "first\n",
      "first\n",
      "first\n",
      "here\n",
      "first\n",
      "first\n",
      "st:2, end:5, path:[2]\n",
      "available routes: {3: 1, 4: 2}\n",
      "next node: 3\n",
      "st:3, end:5, path:[2, 3]\n",
      "Path not reachable\n"
     ]
    }
   ],
   "source": [
    "while len(visit) != 1:\n",
    "    path = [] # for each iteration\n",
    "    start = visit[1] # second element of the list\n",
    "    goal = visit[0] # first element of the lsit\n",
    "    currentNode = goal # we go backwards, we want to find the predecessor\n",
    "    while currentNode != start:\n",
    "        \n",
    "        try: # if we can find the predecessor this is what we do\n",
    "            path.insert(0, currentNode)\n",
    "            currentNode = predecessor[currentNode]\n",
    "            print('first')\n",
    "        \n",
    "        \n",
    "        except KeyError: # if there is not any predecessor\n",
    "            \n",
    "            if goal in graph[start]: # if goal is a neighbour of start \n",
    "                path = [] # path is empty\n",
    "                path.insert(0, goal) # we use this as path\n",
    "                dis += graph[start][goal] # and update distance\n",
    "                print('here')\n",
    "            \n",
    "            else : \n",
    "                path = []\n",
    "                path = find_path(graph, start, goal, path)\n",
    "                path.insert(len(path),goal) # add the end to the list\n",
    "                print('Path not reachable')\n",
    "            break\n",
    "   \n",
    "    megapath.insert(0, path)\n",
    "    visit.pop(0)"
   ]
  },
  {
   "cell_type": "code",
   "execution_count": null,
   "metadata": {},
   "outputs": [],
   "source": []
  },
  {
   "cell_type": "code",
   "execution_count": 24,
   "metadata": {},
   "outputs": [],
   "source": [
    "merged = list(itertools.chain.from_iterable(megapath))"
   ]
  },
  {
   "cell_type": "code",
   "execution_count": 25,
   "metadata": {},
   "outputs": [],
   "source": [
    "if merged[0] != start:\n",
    "    merged.insert(0,start)   "
   ]
  },
  {
   "cell_type": "code",
   "execution_count": 26,
   "metadata": {},
   "outputs": [
    {
     "data": {
      "text/plain": [
       "[2, 3, 5, 4]"
      ]
     },
     "execution_count": 26,
     "metadata": {},
     "output_type": "execute_result"
    }
   ],
   "source": [
    "merged"
   ]
  },
  {
   "cell_type": "markdown",
   "metadata": {},
   "source": [
    "### Test with 2 nodes"
   ]
  },
  {
   "cell_type": "code",
   "execution_count": 470,
   "metadata": {},
   "outputs": [],
   "source": [
    "total_dis = 0"
   ]
  },
  {
   "cell_type": "code",
   "execution_count": 18,
   "metadata": {},
   "outputs": [],
   "source": [
    "path = []\n",
    "dis = 0\n",
    "start = 2\n",
    "goal = 5"
   ]
  },
  {
   "cell_type": "code",
   "execution_count": 20,
   "metadata": {},
   "outputs": [
    {
     "name": "stdout",
     "output_type": "stream",
     "text": [
      "first\n",
      "first\n",
      "st:2, end:5, path:[2]\n",
      "available routes: {3: 1, 4: 2}\n",
      "next node: 3\n",
      "st:3, end:5, path:[2, 3]\n",
      "Path not reachable\n"
     ]
    }
   ],
   "source": [
    "currentNode = goal\n",
    "while currentNode != start:\n",
    "    try:\n",
    "        path.insert(0, currentNode)\n",
    "        currentNode = predecessor[currentNode]\n",
    "        dis = shortest_distance[goal] \n",
    "        print('first')\n",
    "    except KeyError:\n",
    "        \n",
    "       \n",
    "        if goal in graph[start]:\n",
    "            path = []\n",
    "            dis = 0\n",
    "            path.insert(0, goal)\n",
    "            dis = graph[start][goal]\n",
    "            print('here')\n",
    "        else : \n",
    "            path = []\n",
    "            path = find_path(graph, start, goal, path)\n",
    "            path.insert(len(path),goal) # add the end to the list\n",
    "            print('Path not reachable')\n",
    "        break\n",
    "path.insert(0,start)   "
   ]
  },
  {
   "cell_type": "code",
   "execution_count": 520,
   "metadata": {},
   "outputs": [
    {
     "data": {
      "text/plain": [
       "{2: 3, 3: 1, 4: 2, 5: 3}"
      ]
     },
     "execution_count": 520,
     "metadata": {},
     "output_type": "execute_result"
    }
   ],
   "source": [
    "predecessor"
   ]
  },
  {
   "cell_type": "code",
   "execution_count": 517,
   "metadata": {},
   "outputs": [
    {
     "data": {
      "text/plain": [
       "{1: 0, 2: 7, 3: 3, 4: 9, 5: 5}"
      ]
     },
     "execution_count": 517,
     "metadata": {},
     "output_type": "execute_result"
    }
   ],
   "source": [
    "shortest_distance"
   ]
  },
  {
   "cell_type": "code",
   "execution_count": 21,
   "metadata": {},
   "outputs": [
    {
     "data": {
      "text/plain": [
       "[2, 2, 3, 5]"
      ]
     },
     "execution_count": 21,
     "metadata": {},
     "output_type": "execute_result"
    }
   ],
   "source": [
    "path"
   ]
  },
  {
   "cell_type": "code",
   "execution_count": 471,
   "metadata": {},
   "outputs": [],
   "source": [
    "total_dis += dis"
   ]
  },
  {
   "cell_type": "code",
   "execution_count": 472,
   "metadata": {},
   "outputs": [
    {
     "data": {
      "text/plain": [
       "1"
      ]
     },
     "execution_count": 472,
     "metadata": {},
     "output_type": "execute_result"
    }
   ],
   "source": [
    "total_dis"
   ]
  },
  {
   "cell_type": "code",
   "execution_count": 484,
   "metadata": {},
   "outputs": [
    {
     "name": "stdout",
     "output_type": "stream",
     "text": [
      "shortest distance is 5\n",
      "and the path is[1, 3, 5]\n"
     ]
    }
   ],
   "source": [
    "if shortest_distance[goal] != float('inf'):\n",
    "    print('shortest distance is', str(shortest_distance[goal]))\n",
    "    print('and the path is'+ str(path))"
   ]
  },
  {
   "cell_type": "markdown",
   "metadata": {},
   "source": [
    "### Step-by Step"
   ]
  },
  {
   "cell_type": "code",
   "execution_count": 461,
   "metadata": {},
   "outputs": [],
   "source": [
    "path  = []"
   ]
  },
  {
   "cell_type": "code",
   "execution_count": 462,
   "metadata": {},
   "outputs": [
    {
     "data": {
      "text/plain": [
       "[5, 3, 2]"
      ]
     },
     "execution_count": 462,
     "metadata": {},
     "output_type": "execute_result"
    }
   ],
   "source": [
    "visit"
   ]
  },
  {
   "cell_type": "code",
   "execution_count": 463,
   "metadata": {},
   "outputs": [],
   "source": [
    "start = visit[1]\n",
    "goal = visit[0]"
   ]
  },
  {
   "cell_type": "code",
   "execution_count": 464,
   "metadata": {},
   "outputs": [
    {
     "data": {
      "text/plain": [
       "(3, 5)"
      ]
     },
     "execution_count": 464,
     "metadata": {},
     "output_type": "execute_result"
    }
   ],
   "source": [
    "start, goal"
   ]
  },
  {
   "cell_type": "code",
   "execution_count": 446,
   "metadata": {},
   "outputs": [
    {
     "name": "stdout",
     "output_type": "stream",
     "text": [
      "first\n",
      "here\n"
     ]
    }
   ],
   "source": [
    "currentNode = goal\n",
    "while currentNode != start:\n",
    "    try:\n",
    "        path.insert(0, currentNode)\n",
    "        currentNode = predecessor[currentNode]\n",
    "        print('first')\n",
    "    except KeyError:\n",
    "        \n",
    "        path = []\n",
    "        if goal in graph[start]:\n",
    "            path.insert(0, goal)\n",
    "            dis += graph[start][goal]\n",
    "            print('here')\n",
    "        else : \n",
    "            path = []\n",
    "            print('Path not reachable')\n",
    "        break\n",
    "megapath.insert(0, path)\n",
    "visit.pop(0)"
   ]
  },
  {
   "cell_type": "code",
   "execution_count": null,
   "metadata": {},
   "outputs": [],
   "source": [
    "if shortest_distance[goal] != float('inf'):\n",
    "    print('shortest distance is', shortest_distance[goal]+dis)\n",
    "    print('and the path is'+ str(path))"
   ]
  },
  {
   "cell_type": "code",
   "execution_count": 448,
   "metadata": {},
   "outputs": [],
   "source": [
    "# when iteration is finished\n",
    "megapath.insert(0,start)   "
   ]
  },
  {
   "cell_type": "code",
   "execution_count": 449,
   "metadata": {},
   "outputs": [
    {
     "data": {
      "text/plain": [
       "[3]"
      ]
     },
     "execution_count": 449,
     "metadata": {},
     "output_type": "execute_result"
    }
   ],
   "source": [
    "path "
   ]
  },
  {
   "cell_type": "code",
   "execution_count": 450,
   "metadata": {},
   "outputs": [
    {
     "data": {
      "text/plain": [
       "[2, [3], [5]]"
      ]
     },
     "execution_count": 450,
     "metadata": {},
     "output_type": "execute_result"
    }
   ],
   "source": [
    "megapath"
   ]
  },
  {
   "cell_type": "code",
   "execution_count": 577,
   "metadata": {},
   "outputs": [],
   "source": [
    "def find_path(graph, start, end, path=[]):\n",
    "        path = path + [start]\n",
    "        print(\"st:%s, end:%s, path:%s\" % (start,end,path))\n",
    "        if (start == end) or (end in graph[start]) :\n",
    "            return path\n",
    "        if start not in graph:\n",
    "            return None\n",
    "        print(\"available routes: %s\" % graph[start])\n",
    "        for node in graph[start]:\n",
    "            if node not in path:\n",
    "                print(\"next node: %s\" % node)\n",
    "                newpath = find_path(graph, node, end, path)\n",
    "                if newpath: return newpath\n",
    "        return None"
   ]
  },
  {
   "cell_type": "code",
   "execution_count": 578,
   "metadata": {},
   "outputs": [
    {
     "name": "stdout",
     "output_type": "stream",
     "text": [
      "st:1, end:4, path:[1]\n",
      "available routes: {2: 10, 3: 3}\n",
      "next node: 2\n",
      "st:2, end:4, path:[1, 2]\n"
     ]
    }
   ],
   "source": [
    "p = []\n",
    "test = find_path(graph, 1, 4, p)\n",
    "test.insert(len(test),4) # add the end to the list"
   ]
  },
  {
   "cell_type": "code",
   "execution_count": 579,
   "metadata": {},
   "outputs": [
    {
     "data": {
      "text/plain": [
       "[1, 2, 4]"
      ]
     },
     "execution_count": 579,
     "metadata": {},
     "output_type": "execute_result"
    }
   ],
   "source": [
    "test"
   ]
  }
 ],
 "metadata": {
  "kernelspec": {
   "display_name": "Python 3",
   "language": "python",
   "name": "python3"
  },
  "language_info": {
   "codemirror_mode": {
    "name": "ipython",
    "version": 3
   },
   "file_extension": ".py",
   "mimetype": "text/x-python",
   "name": "python",
   "nbconvert_exporter": "python",
   "pygments_lexer": "ipython3",
   "version": "3.7.3"
  }
 },
 "nbformat": 4,
 "nbformat_minor": 2
}
