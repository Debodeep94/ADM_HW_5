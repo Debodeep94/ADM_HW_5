{
 "cells": [
  {
   "cell_type": "code",
   "execution_count": 1,
   "metadata": {},
   "outputs": [],
   "source": [
    "import pandas as pd\n",
    "import networkx\n",
    "from tqdm import tqdm\n",
    "import pickle\n",
    "import itertools\n"
   ]
  },
  {
   "cell_type": "markdown",
   "metadata": {},
   "source": [
    "## Organizing pandas"
   ]
  },
  {
   "cell_type": "markdown",
   "metadata": {},
   "source": [
    "### 1. Coordinates (Node information file)"
   ]
  },
  {
   "cell_type": "code",
   "execution_count": null,
   "metadata": {},
   "outputs": [],
   "source": [
    "coordinates = pd.read_csv(r\"data\\USA-road-d.CAL.co\", sep=' ', delimiter=None,\n",
    "                      index_col=None, usecols=None, encoding='ISO-8859-1')"
   ]
  },
  {
   "cell_type": "code",
   "execution_count": null,
   "metadata": {},
   "outputs": [],
   "source": [
    "# combining two columns pandas\n",
    "coordinates['combined']=coordinates['c'].astype(str)+''+coordinates['9th'].astype(str)"
   ]
  },
  {
   "cell_type": "code",
   "execution_count": null,
   "metadata": {},
   "outputs": [],
   "source": [
    "coordinates = coordinates.iloc[6:] # deleting the first 5 rows"
   ]
  },
  {
   "cell_type": "code",
   "execution_count": null,
   "metadata": {},
   "outputs": [],
   "source": [
    "# organizing pandas DF\n",
    "coordinates.drop(['c', '9th', 'Challenge:', 'Shortest', 'Paths'], axis=1, inplace=True)"
   ]
  },
  {
   "cell_type": "code",
   "execution_count": null,
   "metadata": {},
   "outputs": [],
   "source": [
    "coordinates.columns = ['Latitude', 'Longitude', 'Id_Node']"
   ]
  },
  {
   "cell_type": "code",
   "execution_count": null,
   "metadata": {},
   "outputs": [],
   "source": [
    "coordinates = coordinates.reset_index(drop=True)"
   ]
  },
  {
   "cell_type": "code",
   "execution_count": null,
   "metadata": {},
   "outputs": [],
   "source": [
    "# Transform all str into int\n",
    "coordinates[['Latitude', 'Longitude']] = coordinates[['Latitude', 'Longitude']].astype(int)"
   ]
  },
  {
   "cell_type": "code",
   "execution_count": null,
   "metadata": {},
   "outputs": [],
   "source": [
    "coordinates.head(20)"
   ]
  },
  {
   "cell_type": "markdown",
   "metadata": {},
   "source": [
    "### 2. Distance graph"
   ]
  },
  {
   "cell_type": "code",
   "execution_count": null,
   "metadata": {},
   "outputs": [],
   "source": [
    "distance = pd.read_csv(r\"data\\USA-road-d.CAL.gr\", sep=' ', delimiter=None,\n",
    "                      index_col=None, usecols=None, encoding='ISO-8859-1', error_bad_lines=False)"
   ]
  },
  {
   "cell_type": "code",
   "execution_count": null,
   "metadata": {},
   "outputs": [],
   "source": [
    "distance = distance.iloc[6:] # deleting the first 5 rows"
   ]
  },
  {
   "cell_type": "code",
   "execution_count": null,
   "metadata": {},
   "outputs": [],
   "source": [
    "# organizing pandas DF\n",
    "distance.drop(['c','Challenge:', 'Shortest', 'Paths'], axis=1, inplace=True)"
   ]
  },
  {
   "cell_type": "markdown",
   "metadata": {},
   "source": [
    "(Id_Node1, Id_Node2, d(Id_Node1,Id_Node2)), where d(x,y) is the physical distance between x and y."
   ]
  },
  {
   "cell_type": "code",
   "execution_count": null,
   "metadata": {},
   "outputs": [],
   "source": [
    "distance.columns = ['Id_Node1', 'Id_Node2', 'Distance']"
   ]
  },
  {
   "cell_type": "code",
   "execution_count": null,
   "metadata": {},
   "outputs": [],
   "source": [
    "distance = distance.reset_index(drop=True)"
   ]
  },
  {
   "cell_type": "code",
   "execution_count": null,
   "metadata": {},
   "outputs": [],
   "source": [
    "# Transform all str into int\n",
    "distance = distance.astype(int)"
   ]
  },
  {
   "cell_type": "code",
   "execution_count": null,
   "metadata": {},
   "outputs": [],
   "source": [
    "distance.head(20)"
   ]
  },
  {
   "cell_type": "markdown",
   "metadata": {},
   "source": [
    "### 3. Time travel graph"
   ]
  },
  {
   "cell_type": "code",
   "execution_count": null,
   "metadata": {},
   "outputs": [],
   "source": [
    "travel = pd.read_csv(r\"data\\USA-road-t.CAL.gr\", sep=' ', delimiter=None,\n",
    "                      index_col=None, usecols=None, encoding='ISO-8859-1', error_bad_lines = False)"
   ]
  },
  {
   "cell_type": "code",
   "execution_count": null,
   "metadata": {},
   "outputs": [],
   "source": [
    "travel = travel.iloc[6:] # deleting the first 5 rows"
   ]
  },
  {
   "cell_type": "code",
   "execution_count": null,
   "metadata": {},
   "outputs": [],
   "source": [
    "# organizing pandas DF\n",
    "travel.drop(['c','Challenge:', 'Shortest', 'Paths'], axis=1, inplace=True)"
   ]
  },
  {
   "cell_type": "markdown",
   "metadata": {},
   "source": [
    "(Node1, Node2, t(Id_Node1, Id_Node2))"
   ]
  },
  {
   "cell_type": "code",
   "execution_count": null,
   "metadata": {},
   "outputs": [],
   "source": [
    "travel.columns = ['Id_Node1', 'Id_Node2', 'Time distance']"
   ]
  },
  {
   "cell_type": "code",
   "execution_count": null,
   "metadata": {},
   "outputs": [],
   "source": [
    "travel = travel.reset_index(drop=True)"
   ]
  },
  {
   "cell_type": "code",
   "execution_count": null,
   "metadata": {},
   "outputs": [],
   "source": [
    "travel.head(20)"
   ]
  },
  {
   "cell_type": "code",
   "execution_count": null,
   "metadata": {},
   "outputs": [],
   "source": [
    "# Transform all str into int\n",
    "travel = travel.astype(int)"
   ]
  },
  {
   "cell_type": "markdown",
   "metadata": {},
   "source": [
    "## Part 1. Create data types for nodes and edges"
   ]
  },
  {
   "cell_type": "code",
   "execution_count": null,
   "metadata": {},
   "outputs": [],
   "source": [
    "# Create a list of all nodes\n",
    "nodes =  []\n",
    "nodes.append([i for i in range (1,1890816)])"
   ]
  },
  {
   "cell_type": "code",
   "execution_count": null,
   "metadata": {},
   "outputs": [],
   "source": [
    "# Create a list of set with (Node_1, Node_2)\n",
    "edges = []"
   ]
  },
  {
   "cell_type": "code",
   "execution_count": null,
   "metadata": {},
   "outputs": [],
   "source": [
    "temp_travel = travel.drop(['Time distance'], axis=1)\n",
    "for index, element in tqdm(temp_travel.iterrows()):\n",
    "    edge = [] # couples of edges\n",
    "    edge.extend([element[0], element[1]])\n",
    "    edges.append(edge)"
   ]
  },
  {
   "cell_type": "code",
   "execution_count": null,
   "metadata": {},
   "outputs": [],
   "source": [
    "edges"
   ]
  },
  {
   "cell_type": "markdown",
   "metadata": {},
   "source": [
    "We have to find out if all verteces are bidirectional, to state that it's a bidirectional or directional graph. <br/>\n",
    "Since the data downloaded talkes about Arcs instead of Edges we can assume that it's a directed graph"
   ]
  },
  {
   "cell_type": "code",
   "execution_count": null,
   "metadata": {},
   "outputs": [],
   "source": [
    "with open('outfile', 'wb') as fp:\n",
    "    pickle.dump(edges, fp)"
   ]
  },
  {
   "cell_type": "code",
   "execution_count": 62,
   "metadata": {},
   "outputs": [],
   "source": [
    "with open ('outfile', 'rb') as fp:\n",
    "    edges = pickle.load(fp)"
   ]
  },
  {
   "cell_type": "markdown",
   "metadata": {},
   "source": [
    "### Create the adjacency dictionary"
   ]
  },
  {
   "cell_type": "code",
   "execution_count": null,
   "metadata": {},
   "outputs": [],
   "source": [
    "adj_dic = {}"
   ]
  },
  {
   "cell_type": "code",
   "execution_count": null,
   "metadata": {},
   "outputs": [],
   "source": [
    "for i in tqdm(edges):\n",
    "    if i[0] not in adj_dic: # check if first node is a key already \n",
    "        \n",
    "        adj_dic[i[0]] = []\n",
    "        adj_dic[i[0]].append(i[1])\n",
    "    \n",
    "    else:\n",
    "        \n",
    "        if i[1] in adj_dic[i[0]]:\n",
    "            continue\n",
    "        else:\n",
    "            adj_dic[i[0]].append(i[1])  # if True check if second node is in dictionary, if not append\n",
    "    \n",
    "    if i[1] not in adj_dic: # check if first node is a key already\n",
    "        \n",
    "        adj_dic[i[1]] = []\n",
    "        adj_dic[i[1]].append(i[0])\n",
    "    \n",
    "    else:\n",
    "        \n",
    "        if i[0] in adj_dic[i[1]]:\n",
    "            continue\n",
    "        else:\n",
    "            adj_dic[i[1]].append(i[0])  # if True check if second node is in dictionary, if not append"
   ]
  },
  {
   "cell_type": "code",
   "execution_count": null,
   "metadata": {},
   "outputs": [],
   "source": [
    "# we saved this dictionary to a picke file so that we don't have to run the code each time\n",
    "with open('adj_dic', 'wb') as fp:\n",
    "    pickle.dump(adj_dic, fp)"
   ]
  },
  {
   "cell_type": "markdown",
   "metadata": {},
   "source": [
    "## 2. Find the smartest Network!"
   ]
  },
  {
   "cell_type": "markdown",
   "metadata": {},
   "source": [
    "Implement an algorithm that returns the set of roads (edges) that enable the user to visit all the places. We want this set to be the ones whose sum of distances is minimum."
   ]
  },
  {
   "cell_type": "markdown",
   "metadata": {},
   "source": [
    "#### Test with distance df"
   ]
  },
  {
   "cell_type": "code",
   "execution_count": null,
   "metadata": {},
   "outputs": [],
   "source": [
    "df = distance.copy()"
   ]
  },
  {
   "cell_type": "code",
   "execution_count": null,
   "metadata": {},
   "outputs": [],
   "source": [
    "df = df.head(20) # we'll try it with 10000 nodes"
   ]
  },
  {
   "cell_type": "code",
   "execution_count": null,
   "metadata": {},
   "outputs": [],
   "source": [
    "df"
   ]
  },
  {
   "cell_type": "code",
   "execution_count": null,
   "metadata": {},
   "outputs": [],
   "source": [
    "visit = [3, 1048579, 4]"
   ]
  },
  {
   "cell_type": "markdown",
   "metadata": {},
   "source": [
    "#### Try with df"
   ]
  },
  {
   "cell_type": "code",
   "execution_count": null,
   "metadata": {},
   "outputs": [],
   "source": [
    "for index, element in df.iterrows():\n",
    "    for i\n",
    "    print(element[0], element[1], element[2])"
   ]
  },
  {
   "cell_type": "code",
   "execution_count": null,
   "metadata": {},
   "outputs": [],
   "source": [
    "todos = df.values"
   ]
  },
  {
   "cell_type": "code",
   "execution_count": null,
   "metadata": {},
   "outputs": [],
   "source": [
    "todos # array with each row as a separate list"
   ]
  },
  {
   "cell_type": "code",
   "execution_count": null,
   "metadata": {},
   "outputs": [],
   "source": [
    "walk = []\n",
    "c = 0\n",
    "departure = None\n",
    "destination = None\n",
    "for i in visit:\n",
    "    for j in todos:\n",
    "        if i != visit[-1:]: # last element of the list\n",
    "            if c%2 == 0: # if it's the first iteration\n",
    "                if i == j[0]:\n",
    "                    print('first', j)\n",
    "                    walk.append(j[0])\n",
    "                    c += 1\n",
    "                    break\n",
    "            if c%2 == 1:\n",
    "                if i == j[1]:\n",
    "                    print('second', j)\n",
    "                    walk.append(j[1])\n",
    "                    c += 1\n",
    "                    break\n",
    "        else:\n",
    "            if i == j[1]:\n",
    "                    print('third', j)\n",
    "                    walk.append(j[1])\n",
    "                    c += 1\n",
    "                    break\n",
    "            "
   ]
  },
  {
   "cell_type": "code",
   "execution_count": null,
   "metadata": {},
   "outputs": [],
   "source": [
    "walk"
   ]
  },
  {
   "cell_type": "code",
   "execution_count": null,
   "metadata": {},
   "outputs": [],
   "source": [
    "c"
   ]
  },
  {
   "cell_type": "code",
   "execution_count": null,
   "metadata": {},
   "outputs": [],
   "source": []
  },
  {
   "cell_type": "markdown",
   "metadata": {},
   "source": [
    "## 3. Shortest Ordered Route"
   ]
  },
  {
   "cell_type": "markdown",
   "metadata": {},
   "source": [
    "We'll use Dijkstra algorithm to find the shortest paths"
   ]
  },
  {
   "cell_type": "markdown",
   "metadata": {},
   "source": [
    "### Create Dijkstra"
   ]
  },
  {
   "cell_type": "code",
   "execution_count": 6,
   "metadata": {},
   "outputs": [],
   "source": [
    "graph = {1:{2:10, 3:3},2 :{3:1, 4:2},3:{2:4, 4:8, 5:2},4:{5:7},5:{4:9}}"
   ]
  },
  {
   "cell_type": "code",
   "execution_count": 10,
   "metadata": {},
   "outputs": [],
   "source": [
    "shortest_distance = {}\n",
    "predecessor = {}\n",
    "unvisited = graph.copy()\n",
    "path = []\n",
    "for node in unvisited:\n",
    "    shortest_distance[node] = float('inf')\n",
    "shortest_distance[1] = 0"
   ]
  },
  {
   "cell_type": "code",
   "execution_count": 11,
   "metadata": {},
   "outputs": [],
   "source": [
    "while unvisited:\n",
    "    \n",
    "    minNode = None\n",
    "    for node in unvisited:\n",
    "        if minNode is None: # for the first case, when it's empty\n",
    "            minNode = node\n",
    "        elif shortest_distance[node] < shortest_distance[minNode]:\n",
    "            minNode = node\n",
    "            \n",
    "    # main part of the algo\n",
    "    for childNode, weight in graph[minNode].items():\n",
    "        if weight + shortest_distance[minNode] < shortest_distance[childNode]:\n",
    "            shortest_distance[childNode] = weight + shortest_distance[minNode]\n",
    "            predecessor[childNode] = minNode\n",
    "    unvisited.pop(minNode)"
   ]
  },
  {
   "cell_type": "code",
   "execution_count": 12,
   "metadata": {},
   "outputs": [
    {
     "data": {
      "text/plain": [
       "{1: 0, 2: 7, 3: 3, 4: 9, 5: 5}"
      ]
     },
     "execution_count": 12,
     "metadata": {},
     "output_type": "execute_result"
    }
   ],
   "source": [
    "shortest_distance"
   ]
  },
  {
   "cell_type": "code",
   "execution_count": 13,
   "metadata": {},
   "outputs": [
    {
     "data": {
      "text/plain": [
       "{2: 3, 3: 1, 4: 2, 5: 3}"
      ]
     },
     "execution_count": 13,
     "metadata": {},
     "output_type": "execute_result"
    }
   ],
   "source": [
    "predecessor"
   ]
  },
  {
   "cell_type": "markdown",
   "metadata": {},
   "source": [
    "### Create path"
   ]
  },
  {
   "cell_type": "code",
   "execution_count": 35,
   "metadata": {},
   "outputs": [],
   "source": [
    "def find_path(graph, start, end, path=[]):\n",
    "        path = path + [start]\n",
    "        print(\"st:%s, end:%s, path:%s\" % (start,end,path))\n",
    "        if (start == end) or (end in graph[start]) :\n",
    "            return path\n",
    "        if start not in graph:\n",
    "            return None\n",
    "        print(\"available routes: %s\" % graph[start])\n",
    "        for node in graph[start]:\n",
    "            if node not in path:\n",
    "                print(\"next node: %s\" % node)\n",
    "                newpath = find_path(graph, node, end, path)\n",
    "                if newpath: return newpath\n",
    "        return None"
   ]
  },
  {
   "cell_type": "code",
   "execution_count": 53,
   "metadata": {},
   "outputs": [],
   "source": [
    "visit = [2, 5, 4]\n",
    "visit = visit[::-1] # we reverse the list of nodes we want to visit"
   ]
  },
  {
   "cell_type": "code",
   "execution_count": 54,
   "metadata": {},
   "outputs": [],
   "source": [
    "megapath = [] # entire path that we want"
   ]
  },
  {
   "cell_type": "code",
   "execution_count": 55,
   "metadata": {},
   "outputs": [
    {
     "name": "stdout",
     "output_type": "stream",
     "text": [
      "first\n",
      "first\n",
      "first\n",
      "here\n",
      "first\n",
      "first\n",
      "st:2, end:5, path:[2]\n",
      "available routes: {3: 1, 4: 2}\n",
      "next node: 3\n",
      "st:3, end:5, path:[2, 3]\n",
      "Path not reachable\n"
     ]
    }
   ],
   "source": [
    "while len(visit) != 1:\n",
    "    path = [] # for each iteration\n",
    "    start = visit[1] # second element of the list\n",
    "    goal = visit[0] # first element of the lsit\n",
    "    currentNode = goal # we go backwards, we want to find the predecessor\n",
    "    while currentNode != start:\n",
    "        \n",
    "        try: # if we can find the predecessor this is what we do\n",
    "            path.insert(0, currentNode)\n",
    "            currentNode = predecessor[currentNode]\n",
    "            print('first')\n",
    "        \n",
    "        \n",
    "        except KeyError: # if there is not any predecessor\n",
    "            \n",
    "            if goal in graph[start]: # if goal is a neighbour of start \n",
    "                path = [] # path is empty\n",
    "                path.insert(0, goal) # we use this as path\n",
    "                dis += graph[start][goal] # and update distance\n",
    "                print('here')\n",
    "            \n",
    "            else : \n",
    "                path = []\n",
    "                path = find_path(graph, start, goal, path)\n",
    "                path.insert(len(path),goal) # add the end to the list\n",
    "                print('Path not reachable')\n",
    "            break\n",
    "   \n",
    "    megapath.insert(0, path)\n",
    "    visit.pop(0)"
   ]
  },
  {
   "cell_type": "code",
   "execution_count": 56,
   "metadata": {},
   "outputs": [],
   "source": [
    "merged = list(itertools.chain.from_iterable(megapath))"
   ]
  },
  {
   "cell_type": "code",
   "execution_count": 60,
   "metadata": {},
   "outputs": [],
   "source": [
    "if merged[0] != start:\n",
    "    merged.insert(0,start)   "
   ]
  },
  {
   "cell_type": "code",
   "execution_count": 61,
   "metadata": {},
   "outputs": [
    {
     "data": {
      "text/plain": [
       "[2, 3, 5, 4]"
      ]
     },
     "execution_count": 61,
     "metadata": {},
     "output_type": "execute_result"
    }
   ],
   "source": [
    "merged"
   ]
  },
  {
   "cell_type": "markdown",
   "metadata": {},
   "source": [
    "### Test with 2 nodes"
   ]
  },
  {
   "cell_type": "code",
   "execution_count": 470,
   "metadata": {},
   "outputs": [],
   "source": [
    "total_dis = 0"
   ]
  },
  {
   "cell_type": "code",
   "execution_count": 18,
   "metadata": {},
   "outputs": [],
   "source": [
    "path = []\n",
    "dis = 0\n",
    "start = 2\n",
    "goal = 5"
   ]
  },
  {
   "cell_type": "code",
   "execution_count": 20,
   "metadata": {},
   "outputs": [
    {
     "name": "stdout",
     "output_type": "stream",
     "text": [
      "first\n",
      "first\n",
      "st:2, end:5, path:[2]\n",
      "available routes: {3: 1, 4: 2}\n",
      "next node: 3\n",
      "st:3, end:5, path:[2, 3]\n",
      "Path not reachable\n"
     ]
    }
   ],
   "source": [
    "currentNode = goal\n",
    "while currentNode != start:\n",
    "    try:\n",
    "        path.insert(0, currentNode)\n",
    "        currentNode = predecessor[currentNode]\n",
    "        dis = shortest_distance[goal] \n",
    "        print('first')\n",
    "    except KeyError:\n",
    "        \n",
    "       \n",
    "        if goal in graph[start]:\n",
    "            path = []\n",
    "            dis = 0\n",
    "            path.insert(0, goal)\n",
    "            dis = graph[start][goal]\n",
    "            print('here')\n",
    "        else : \n",
    "            path = []\n",
    "            path = find_path(graph, start, goal, path)\n",
    "            path.insert(len(path),goal) # add the end to the list\n",
    "            print('Path not reachable')\n",
    "        break\n",
    "path.insert(0,start)   "
   ]
  },
  {
   "cell_type": "code",
   "execution_count": 520,
   "metadata": {},
   "outputs": [
    {
     "data": {
      "text/plain": [
       "{2: 3, 3: 1, 4: 2, 5: 3}"
      ]
     },
     "execution_count": 520,
     "metadata": {},
     "output_type": "execute_result"
    }
   ],
   "source": [
    "predecessor"
   ]
  },
  {
   "cell_type": "code",
   "execution_count": 517,
   "metadata": {},
   "outputs": [
    {
     "data": {
      "text/plain": [
       "{1: 0, 2: 7, 3: 3, 4: 9, 5: 5}"
      ]
     },
     "execution_count": 517,
     "metadata": {},
     "output_type": "execute_result"
    }
   ],
   "source": [
    "shortest_distance"
   ]
  },
  {
   "cell_type": "code",
   "execution_count": 21,
   "metadata": {},
   "outputs": [
    {
     "data": {
      "text/plain": [
       "[2, 2, 3, 5]"
      ]
     },
     "execution_count": 21,
     "metadata": {},
     "output_type": "execute_result"
    }
   ],
   "source": [
    "path"
   ]
  },
  {
   "cell_type": "code",
   "execution_count": 471,
   "metadata": {},
   "outputs": [],
   "source": [
    "total_dis += dis"
   ]
  },
  {
   "cell_type": "code",
   "execution_count": 472,
   "metadata": {},
   "outputs": [
    {
     "data": {
      "text/plain": [
       "1"
      ]
     },
     "execution_count": 472,
     "metadata": {},
     "output_type": "execute_result"
    }
   ],
   "source": [
    "total_dis"
   ]
  },
  {
   "cell_type": "code",
   "execution_count": 484,
   "metadata": {},
   "outputs": [
    {
     "name": "stdout",
     "output_type": "stream",
     "text": [
      "shortest distance is 5\n",
      "and the path is[1, 3, 5]\n"
     ]
    }
   ],
   "source": [
    "if shortest_distance[goal] != float('inf'):\n",
    "    print('shortest distance is', str(shortest_distance[goal]))\n",
    "    print('and the path is'+ str(path))"
   ]
  },
  {
   "cell_type": "markdown",
   "metadata": {},
   "source": [
    "### Step-by Step"
   ]
  },
  {
   "cell_type": "code",
   "execution_count": 461,
   "metadata": {},
   "outputs": [],
   "source": [
    "path  = []"
   ]
  },
  {
   "cell_type": "code",
   "execution_count": 462,
   "metadata": {},
   "outputs": [
    {
     "data": {
      "text/plain": [
       "[5, 3, 2]"
      ]
     },
     "execution_count": 462,
     "metadata": {},
     "output_type": "execute_result"
    }
   ],
   "source": [
    "visit"
   ]
  },
  {
   "cell_type": "code",
   "execution_count": 463,
   "metadata": {},
   "outputs": [],
   "source": [
    "start = visit[1]\n",
    "goal = visit[0]"
   ]
  },
  {
   "cell_type": "code",
   "execution_count": 464,
   "metadata": {},
   "outputs": [
    {
     "data": {
      "text/plain": [
       "(3, 5)"
      ]
     },
     "execution_count": 464,
     "metadata": {},
     "output_type": "execute_result"
    }
   ],
   "source": [
    "start, goal"
   ]
  },
  {
   "cell_type": "code",
   "execution_count": 446,
   "metadata": {},
   "outputs": [
    {
     "name": "stdout",
     "output_type": "stream",
     "text": [
      "first\n",
      "here\n"
     ]
    }
   ],
   "source": [
    "currentNode = goal\n",
    "while currentNode != start:\n",
    "    try:\n",
    "        path.insert(0, currentNode)\n",
    "        currentNode = predecessor[currentNode]\n",
    "        print('first')\n",
    "    except KeyError:\n",
    "        \n",
    "        path = []\n",
    "        if goal in graph[start]:\n",
    "            path.insert(0, goal)\n",
    "            dis += graph[start][goal]\n",
    "            print('here')\n",
    "        else : \n",
    "            path = []\n",
    "            print('Path not reachable')\n",
    "        break\n",
    "megapath.insert(0, path)\n",
    "visit.pop(0)"
   ]
  },
  {
   "cell_type": "code",
   "execution_count": null,
   "metadata": {},
   "outputs": [],
   "source": [
    "if shortest_distance[goal] != float('inf'):\n",
    "    print('shortest distance is', shortest_distance[goal]+dis)\n",
    "    print('and the path is'+ str(path))"
   ]
  },
  {
   "cell_type": "code",
   "execution_count": 448,
   "metadata": {},
   "outputs": [],
   "source": [
    "# when iteration is finished\n",
    "megapath.insert(0,start)   "
   ]
  },
  {
   "cell_type": "code",
   "execution_count": 449,
   "metadata": {},
   "outputs": [
    {
     "data": {
      "text/plain": [
       "[3]"
      ]
     },
     "execution_count": 449,
     "metadata": {},
     "output_type": "execute_result"
    }
   ],
   "source": [
    "path "
   ]
  },
  {
   "cell_type": "code",
   "execution_count": 450,
   "metadata": {},
   "outputs": [
    {
     "data": {
      "text/plain": [
       "[2, [3], [5]]"
      ]
     },
     "execution_count": 450,
     "metadata": {},
     "output_type": "execute_result"
    }
   ],
   "source": [
    "megapath"
   ]
  },
  {
   "cell_type": "code",
   "execution_count": 577,
   "metadata": {},
   "outputs": [],
   "source": [
    "def find_path(graph, start, end, path=[]):\n",
    "        path = path + [start]\n",
    "        print(\"st:%s, end:%s, path:%s\" % (start,end,path))\n",
    "        if (start == end) or (end in graph[start]) :\n",
    "            return path\n",
    "        if start not in graph:\n",
    "            return None\n",
    "        print(\"available routes: %s\" % graph[start])\n",
    "        for node in graph[start]:\n",
    "            if node not in path:\n",
    "                print(\"next node: %s\" % node)\n",
    "                newpath = find_path(graph, node, end, path)\n",
    "                if newpath: return newpath\n",
    "        return None"
   ]
  },
  {
   "cell_type": "code",
   "execution_count": 578,
   "metadata": {},
   "outputs": [
    {
     "name": "stdout",
     "output_type": "stream",
     "text": [
      "st:1, end:4, path:[1]\n",
      "available routes: {2: 10, 3: 3}\n",
      "next node: 2\n",
      "st:2, end:4, path:[1, 2]\n"
     ]
    }
   ],
   "source": [
    "p = []\n",
    "test = find_path(graph, 1, 4, p)\n",
    "test.insert(len(test),4) # add the end to the list"
   ]
  },
  {
   "cell_type": "code",
   "execution_count": 579,
   "metadata": {},
   "outputs": [
    {
     "data": {
      "text/plain": [
       "[1, 2, 4]"
      ]
     },
     "execution_count": 579,
     "metadata": {},
     "output_type": "execute_result"
    }
   ],
   "source": [
    "test"
   ]
  }
 ],
 "metadata": {
  "kernelspec": {
   "display_name": "Python 3",
   "language": "python",
   "name": "python3"
  },
  "language_info": {
   "codemirror_mode": {
    "name": "ipython",
    "version": 3
   },
   "file_extension": ".py",
   "mimetype": "text/x-python",
   "name": "python",
   "nbconvert_exporter": "python",
   "pygments_lexer": "ipython3",
   "version": "3.7.3"
  }
 },
 "nbformat": 4,
 "nbformat_minor": 2
}
