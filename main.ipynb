{
 "cells": [
  {
   "cell_type": "code",
   "execution_count": 284,
   "metadata": {},
   "outputs": [],
   "source": [
    "# Libraries\n",
    "import pandas as pd\n",
    "import networkx as nx\n",
    "from tqdm import tqdm\n",
    "import pickle # used to store the files\n",
    "import itertools\n",
    "from itertools import permutations\n",
    "import folium # used to plot\n",
    "import numpy as np\n",
    "import decimal\n",
    "from  more_itertools import unique_everseen\n",
    "from collections import defaultdict\n",
    "from tqdm import tqdm_notebook\n",
    "import builtins"
   ]
  },
  {
   "cell_type": "markdown",
   "metadata": {},
   "source": [
    "## 1. Prerequisites"
   ]
  },
  {
   "cell_type": "markdown",
   "metadata": {},
   "source": [
    "## 1.1 Create Dataframes"
   ]
  },
  {
   "cell_type": "markdown",
   "metadata": {},
   "source": [
    "Given the files we create a **DataFrame** for each of them. We will after convert these df into dictionaries."
   ]
  },
  {
   "cell_type": "markdown",
   "metadata": {},
   "source": [
    "### 1.1.1 Coordinates (Node information file)"
   ]
  },
  {
   "cell_type": "code",
   "execution_count": 285,
   "metadata": {},
   "outputs": [
    {
     "name": "stderr",
     "output_type": "stream",
     "text": [
      "C:\\Users\\Luca\\Anaconda3\\lib\\site-packages\\IPython\\core\\interactiveshell.py:3057: DtypeWarning: Columns (1,2,3,4,5,6) have mixed types. Specify dtype option on import or set low_memory=False.\n",
      "  interactivity=interactivity, compiler=compiler, result=result)\n"
     ]
    }
   ],
   "source": [
    "coordinates = pd.read_csv(r\"C:\\Users\\Luca\\Desktop\\WIP\\ADM HW 5\\data\\USA-road-d.CAL.co\", sep=' ', delimiter=None,\n",
    "                      index_col=None, usecols=None, encoding='ISO-8859-1')"
   ]
  },
  {
   "cell_type": "code",
   "execution_count": 286,
   "metadata": {},
   "outputs": [],
   "source": [
    "# combining two columns pandas\n",
    "coordinates['combined']=coordinates['c'].astype(str)+''+coordinates['9th'].astype(str)"
   ]
  },
  {
   "cell_type": "code",
   "execution_count": 287,
   "metadata": {},
   "outputs": [],
   "source": [
    "coordinates = coordinates.iloc[6:] # deleting the first 5 rows"
   ]
  },
  {
   "cell_type": "code",
   "execution_count": 288,
   "metadata": {},
   "outputs": [],
   "source": [
    "# organizing pandas DF\n",
    "coordinates.drop(['c', '9th', 'Challenge:', 'Shortest', 'Paths'], axis=1, inplace=True)"
   ]
  },
  {
   "cell_type": "code",
   "execution_count": 289,
   "metadata": {},
   "outputs": [],
   "source": [
    "coordinates.columns = ['Latitude', 'Longitude', 'Id_Node']"
   ]
  },
  {
   "cell_type": "code",
   "execution_count": 290,
   "metadata": {},
   "outputs": [],
   "source": [
    "coordinates = coordinates.reset_index(drop=True)"
   ]
  },
  {
   "cell_type": "code",
   "execution_count": 291,
   "metadata": {},
   "outputs": [],
   "source": [
    "# Transform all str into int\n",
    "coordinates[['Latitude', 'Longitude']] = coordinates[['Latitude', 'Longitude']].astype(int)"
   ]
  },
  {
   "cell_type": "code",
   "execution_count": 292,
   "metadata": {},
   "outputs": [
    {
     "data": {
      "text/html": [
       "<div>\n",
       "<style scoped>\n",
       "    .dataframe tbody tr th:only-of-type {\n",
       "        vertical-align: middle;\n",
       "    }\n",
       "\n",
       "    .dataframe tbody tr th {\n",
       "        vertical-align: top;\n",
       "    }\n",
       "\n",
       "    .dataframe thead th {\n",
       "        text-align: right;\n",
       "    }\n",
       "</style>\n",
       "<table border=\"1\" class=\"dataframe\">\n",
       "  <thead>\n",
       "    <tr style=\"text-align: right;\">\n",
       "      <th></th>\n",
       "      <th>Latitude</th>\n",
       "      <th>Longitude</th>\n",
       "      <th>Id_Node</th>\n",
       "    </tr>\n",
       "  </thead>\n",
       "  <tbody>\n",
       "    <tr>\n",
       "      <th>0</th>\n",
       "      <td>-114315309</td>\n",
       "      <td>34133550</td>\n",
       "      <td>v1</td>\n",
       "    </tr>\n",
       "    <tr>\n",
       "      <th>1</th>\n",
       "      <td>-114223946</td>\n",
       "      <td>34176221</td>\n",
       "      <td>v2</td>\n",
       "    </tr>\n",
       "    <tr>\n",
       "      <th>2</th>\n",
       "      <td>-114307299</td>\n",
       "      <td>34148791</td>\n",
       "      <td>v3</td>\n",
       "    </tr>\n",
       "    <tr>\n",
       "      <th>3</th>\n",
       "      <td>-114318765</td>\n",
       "      <td>34138889</td>\n",
       "      <td>v4</td>\n",
       "    </tr>\n",
       "    <tr>\n",
       "      <th>4</th>\n",
       "      <td>-114347300</td>\n",
       "      <td>34042614</td>\n",
       "      <td>v5</td>\n",
       "    </tr>\n",
       "  </tbody>\n",
       "</table>\n",
       "</div>"
      ],
      "text/plain": [
       "    Latitude  Longitude Id_Node\n",
       "0 -114315309   34133550      v1\n",
       "1 -114223946   34176221      v2\n",
       "2 -114307299   34148791      v3\n",
       "3 -114318765   34138889      v4\n",
       "4 -114347300   34042614      v5"
      ]
     },
     "execution_count": 292,
     "metadata": {},
     "output_type": "execute_result"
    }
   ],
   "source": [
    "coordinates.head(5)"
   ]
  },
  {
   "cell_type": "markdown",
   "metadata": {},
   "source": [
    "### 1.1.2 Distance graph"
   ]
  },
  {
   "cell_type": "code",
   "execution_count": 273,
   "metadata": {},
   "outputs": [
    {
     "name": "stderr",
     "output_type": "stream",
     "text": [
      "b'Skipping line 6: expected 7 fields, saw 8\\n'\n"
     ]
    }
   ],
   "source": [
    "distance = pd.read_csv(r\"data\\USA-road-d.CAL.gr\", sep=' ', delimiter=None,\n",
    "                      index_col=None, usecols=None, encoding='ISO-8859-1', error_bad_lines=False)"
   ]
  },
  {
   "cell_type": "code",
   "execution_count": 274,
   "metadata": {},
   "outputs": [],
   "source": [
    "distance = distance.iloc[5:] # deleting the first 5 rows"
   ]
  },
  {
   "cell_type": "code",
   "execution_count": 275,
   "metadata": {},
   "outputs": [],
   "source": [
    "# organizing pandas DF\n",
    "distance.drop(['c','Challenge:', 'Shortest', 'Paths'], axis=1, inplace=True)"
   ]
  },
  {
   "cell_type": "markdown",
   "metadata": {},
   "source": [
    "(Id_Node1, Id_Node2, d(Id_Node1,Id_Node2)), where d(x,y) is the physical distance between x and y."
   ]
  },
  {
   "cell_type": "code",
   "execution_count": 276,
   "metadata": {},
   "outputs": [],
   "source": [
    "distance.columns = ['Id_Node1', 'Id_Node2', 'Distance']"
   ]
  },
  {
   "cell_type": "code",
   "execution_count": 277,
   "metadata": {},
   "outputs": [],
   "source": [
    "distance = distance.reset_index(drop=True)"
   ]
  },
  {
   "cell_type": "code",
   "execution_count": 278,
   "metadata": {},
   "outputs": [],
   "source": [
    "# Transform all str into int\n",
    "distance = distance.astype(int)"
   ]
  },
  {
   "cell_type": "code",
   "execution_count": 279,
   "metadata": {},
   "outputs": [
    {
     "data": {
      "text/html": [
       "<div>\n",
       "<style scoped>\n",
       "    .dataframe tbody tr th:only-of-type {\n",
       "        vertical-align: middle;\n",
       "    }\n",
       "\n",
       "    .dataframe tbody tr th {\n",
       "        vertical-align: top;\n",
       "    }\n",
       "\n",
       "    .dataframe thead th {\n",
       "        text-align: right;\n",
       "    }\n",
       "</style>\n",
       "<table border=\"1\" class=\"dataframe\">\n",
       "  <thead>\n",
       "    <tr style=\"text-align: right;\">\n",
       "      <th></th>\n",
       "      <th>Id_Node1</th>\n",
       "      <th>Id_Node2</th>\n",
       "      <th>Distance</th>\n",
       "    </tr>\n",
       "  </thead>\n",
       "  <tbody>\n",
       "    <tr>\n",
       "      <th>0</th>\n",
       "      <td>1</td>\n",
       "      <td>1048577</td>\n",
       "      <td>456</td>\n",
       "    </tr>\n",
       "    <tr>\n",
       "      <th>1</th>\n",
       "      <td>1048577</td>\n",
       "      <td>1</td>\n",
       "      <td>456</td>\n",
       "    </tr>\n",
       "    <tr>\n",
       "      <th>2</th>\n",
       "      <td>2</td>\n",
       "      <td>1048578</td>\n",
       "      <td>2389</td>\n",
       "    </tr>\n",
       "    <tr>\n",
       "      <th>3</th>\n",
       "      <td>1048578</td>\n",
       "      <td>2</td>\n",
       "      <td>2389</td>\n",
       "    </tr>\n",
       "    <tr>\n",
       "      <th>4</th>\n",
       "      <td>3</td>\n",
       "      <td>1048579</td>\n",
       "      <td>358</td>\n",
       "    </tr>\n",
       "  </tbody>\n",
       "</table>\n",
       "</div>"
      ],
      "text/plain": [
       "   Id_Node1  Id_Node2  Distance\n",
       "0         1   1048577       456\n",
       "1   1048577         1       456\n",
       "2         2   1048578      2389\n",
       "3   1048578         2      2389\n",
       "4         3   1048579       358"
      ]
     },
     "execution_count": 279,
     "metadata": {},
     "output_type": "execute_result"
    }
   ],
   "source": [
    "distance.head(5)"
   ]
  },
  {
   "cell_type": "markdown",
   "metadata": {},
   "source": [
    "### 1.1.3 Time travel graph"
   ]
  },
  {
   "cell_type": "code",
   "execution_count": 266,
   "metadata": {},
   "outputs": [
    {
     "name": "stderr",
     "output_type": "stream",
     "text": [
      "b'Skipping line 6: expected 7 fields, saw 8\\n'\n",
      "C:\\Users\\Luca\\Anaconda3\\lib\\site-packages\\IPython\\core\\interactiveshell.py:3057: DtypeWarning: Columns (1,2,3) have mixed types. Specify dtype option on import or set low_memory=False.\n",
      "  interactivity=interactivity, compiler=compiler, result=result)\n"
     ]
    }
   ],
   "source": [
    "travel = pd.read_csv(r\"data\\USA-road-t.CAL.gr\", sep=' ', delimiter=None,\n",
    "                      index_col=None, usecols=None, encoding='ISO-8859-1', error_bad_lines = False)"
   ]
  },
  {
   "cell_type": "code",
   "execution_count": 267,
   "metadata": {},
   "outputs": [],
   "source": [
    "travel = travel.iloc[5:] # deleting the first 5 rows"
   ]
  },
  {
   "cell_type": "code",
   "execution_count": 268,
   "metadata": {},
   "outputs": [],
   "source": [
    "# organizing pandas DF\n",
    "travel.drop(['c','Challenge:', 'Shortest', 'Paths'], axis=1, inplace=True)"
   ]
  },
  {
   "cell_type": "markdown",
   "metadata": {},
   "source": [
    "(Node1, Node2, t(Id_Node1, Id_Node2))"
   ]
  },
  {
   "cell_type": "code",
   "execution_count": 269,
   "metadata": {},
   "outputs": [],
   "source": [
    "travel.columns = ['Id_Node1', 'Id_Node2', 'Time distance']"
   ]
  },
  {
   "cell_type": "code",
   "execution_count": 270,
   "metadata": {},
   "outputs": [],
   "source": [
    "travel = travel.reset_index(drop=True)"
   ]
  },
  {
   "cell_type": "code",
   "execution_count": 271,
   "metadata": {},
   "outputs": [],
   "source": [
    "# Transform all str into int\n",
    "travel = travel.astype(int)"
   ]
  },
  {
   "cell_type": "code",
   "execution_count": 272,
   "metadata": {},
   "outputs": [
    {
     "data": {
      "text/html": [
       "<div>\n",
       "<style scoped>\n",
       "    .dataframe tbody tr th:only-of-type {\n",
       "        vertical-align: middle;\n",
       "    }\n",
       "\n",
       "    .dataframe tbody tr th {\n",
       "        vertical-align: top;\n",
       "    }\n",
       "\n",
       "    .dataframe thead th {\n",
       "        text-align: right;\n",
       "    }\n",
       "</style>\n",
       "<table border=\"1\" class=\"dataframe\">\n",
       "  <thead>\n",
       "    <tr style=\"text-align: right;\">\n",
       "      <th></th>\n",
       "      <th>Id_Node1</th>\n",
       "      <th>Id_Node2</th>\n",
       "      <th>Time distance</th>\n",
       "    </tr>\n",
       "  </thead>\n",
       "  <tbody>\n",
       "    <tr>\n",
       "      <th>0</th>\n",
       "      <td>1</td>\n",
       "      <td>1048577</td>\n",
       "      <td>1139</td>\n",
       "    </tr>\n",
       "    <tr>\n",
       "      <th>1</th>\n",
       "      <td>1048577</td>\n",
       "      <td>1</td>\n",
       "      <td>1139</td>\n",
       "    </tr>\n",
       "    <tr>\n",
       "      <th>2</th>\n",
       "      <td>2</td>\n",
       "      <td>1048578</td>\n",
       "      <td>5972</td>\n",
       "    </tr>\n",
       "    <tr>\n",
       "      <th>3</th>\n",
       "      <td>1048578</td>\n",
       "      <td>2</td>\n",
       "      <td>5972</td>\n",
       "    </tr>\n",
       "    <tr>\n",
       "      <th>4</th>\n",
       "      <td>3</td>\n",
       "      <td>1048579</td>\n",
       "      <td>895</td>\n",
       "    </tr>\n",
       "  </tbody>\n",
       "</table>\n",
       "</div>"
      ],
      "text/plain": [
       "   Id_Node1  Id_Node2  Time distance\n",
       "0         1   1048577           1139\n",
       "1   1048577         1           1139\n",
       "2         2   1048578           5972\n",
       "3   1048578         2           5972\n",
       "4         3   1048579            895"
      ]
     },
     "execution_count": 272,
     "metadata": {},
     "output_type": "execute_result"
    }
   ],
   "source": [
    "travel.head(5)"
   ]
  },
  {
   "cell_type": "markdown",
   "metadata": {},
   "source": [
    "## 1.2 Create data types for nodes and edges"
   ]
  },
  {
   "cell_type": "code",
   "execution_count": null,
   "metadata": {},
   "outputs": [],
   "source": [
    "# Create a list of all nodes\n",
    "nodes = list(range(1, 1890816))\n"
   ]
  },
  {
   "cell_type": "code",
   "execution_count": null,
   "metadata": {},
   "outputs": [],
   "source": [
    "# Create a list of set with (Node_1, Node_2)\n",
    "edges = []"
   ]
  },
  {
   "cell_type": "code",
   "execution_count": null,
   "metadata": {},
   "outputs": [],
   "source": [
    "temp_travel = travel.drop(['Time distance'], axis=1)\n",
    "for index, element in tqdm(temp_travel.iterrows()):\n",
    "    edge = [] # couples of edges\n",
    "    edge.extend([element[0], element[1]])\n",
    "    edges.append(edge)"
   ]
  },
  {
   "cell_type": "markdown",
   "metadata": {},
   "source": [
    "We have to find out if all verteces are bidirectional, to state that it's a bidirectional or directional graph. <br/>\n",
    "Since the data downloaded talkes about Arcs instead of Edges we can assume that it's a directed graph"
   ]
  },
  {
   "cell_type": "code",
   "execution_count": null,
   "metadata": {},
   "outputs": [],
   "source": [
    "with open('outfile', 'wb') as fp:\n",
    "    pickle.dump(edges, fp)"
   ]
  },
  {
   "cell_type": "code",
   "execution_count": null,
   "metadata": {},
   "outputs": [],
   "source": [
    "with open ('outfile', 'rb') as fp:\n",
    "    edges = pickle.load(fp)"
   ]
  },
  {
   "cell_type": "markdown",
   "metadata": {},
   "source": [
    "### 1.2.1 Create the adjacency dictionary"
   ]
  },
  {
   "cell_type": "code",
   "execution_count": null,
   "metadata": {},
   "outputs": [],
   "source": [
    "adj_dic = {}"
   ]
  },
  {
   "cell_type": "code",
   "execution_count": null,
   "metadata": {},
   "outputs": [],
   "source": [
    "for i in tqdm(edges):\n",
    "    if i[0] not in adj_dic: # check if first node is a key already \n",
    "        \n",
    "        adj_dic[i[0]] = []\n",
    "        adj_dic[i[0]].append(i[1])\n",
    "    \n",
    "    else:\n",
    "        \n",
    "        if i[1] in adj_dic[i[0]]:\n",
    "            continue\n",
    "        else:\n",
    "            adj_dic[i[0]].append(i[1])  # if True check if second node is in dictionary, if not append\n",
    "    \n",
    "    if i[1] not in adj_dic: # check if first node is a key already\n",
    "        \n",
    "        adj_dic[i[1]] = []\n",
    "        adj_dic[i[1]].append(i[0])\n",
    "    \n",
    "    else:\n",
    "        \n",
    "        if i[0] in adj_dic[i[1]]:\n",
    "            continue\n",
    "        else:\n",
    "            adj_dic[i[1]].append(i[0])  # if True check if second node is in dictionary, if not append"
   ]
  },
  {
   "cell_type": "code",
   "execution_count": null,
   "metadata": {},
   "outputs": [],
   "source": [
    "# we saved this dictionary to a picke file so that we don't have to run the code each time\n",
    "with open('adj_dic', 'wb') as fp:\n",
    "    pickle.dump(adj_dic, fp)"
   ]
  },
  {
   "cell_type": "code",
   "execution_count": null,
   "metadata": {},
   "outputs": [],
   "source": [
    "# Read the files\n",
    "with open('adj_dic', 'rb') as fp:\n",
    "    adj_dic = pickle.load(fp)"
   ]
  },
  {
   "cell_type": "markdown",
   "metadata": {},
   "source": [
    "### 1.2.2 Weighted graph"
   ]
  },
  {
   "cell_type": "markdown",
   "metadata": {},
   "source": [
    "#### Time "
   ]
  },
  {
   "cell_type": "code",
   "execution_count": null,
   "metadata": {},
   "outputs": [],
   "source": [
    "graph_trav_dist = defaultdict(list)\n",
    "for row in tqdm_notebook(travel.iterrows()):\n",
    "    if str(row[1][\"Id_Node2\"]) in adj_dic[str(row[1][\"Id_Node1\"])]:\n",
    "        graph_trav_dist[str(row[1][\"Id_Node1\"])].append((str(row[1][\"Id_Node2\"]),int(row[1][\"Time distance\"])))\n",
    "        "
   ]
  },
  {
   "cell_type": "code",
   "execution_count": null,
   "metadata": {},
   "outputs": [],
   "source": [
    "# we saved this dictionary to a picke file so that we don't have to run the code each time\n",
    "with open('adj_dic_travel', 'wb') as fp:\n",
    "    pickle.dump(graph_trav_dist,fp)"
   ]
  },
  {
   "cell_type": "code",
   "execution_count": 351,
   "metadata": {},
   "outputs": [],
   "source": [
    "with open('adj_dic_travel', 'rb') as fp:\n",
    "    graph_trav_dist = pickle.load(fp)"
   ]
  },
  {
   "cell_type": "markdown",
   "metadata": {},
   "source": [
    "#### Distance"
   ]
  },
  {
   "cell_type": "code",
   "execution_count": 293,
   "metadata": {},
   "outputs": [
    {
     "data": {
      "application/vnd.jupyter.widget-view+json": {
       "model_id": "2c55cb5adb904a34ab5b10b86590022e",
       "version_major": 2,
       "version_minor": 0
      },
      "text/plain": [
       "HBox(children=(IntProgress(value=1, bar_style='info', max=1), HTML(value='')))"
      ]
     },
     "metadata": {},
     "output_type": "display_data"
    }
   ],
   "source": [
    "graph_ph_dist = defaultdict(list)\n",
    "for row in tqdm_notebook(distance.iterrows()):\n",
    "    if int(row[1][\"Id_Node2\"]) in adj_dic[int(row[1][\"Id_Node1\"])]:\n",
    "        graph_ph_dist[str(row[1][\"Id_Node1\"])].append((str(row[1][\"Id_Node2\"]),int(row[1][\"Distance\"])))"
   ]
  },
  {
   "cell_type": "code",
   "execution_count": 294,
   "metadata": {},
   "outputs": [],
   "source": [
    "# we saved this dictionary to a picke file so that we don't have to run the code each time\n",
    "with open('adj_dic_ph', 'wb') as fp:\n",
    "    pickle.dump(graph_ph_dist,fp)"
   ]
  },
  {
   "cell_type": "code",
   "execution_count": 295,
   "metadata": {},
   "outputs": [],
   "source": [
    "with open('adj_dic_ph', 'rb') as fp:\n",
    "    graph_ph_dist = pickle.load(fp)"
   ]
  },
  {
   "cell_type": "markdown",
   "metadata": {},
   "source": [
    "#### Network"
   ]
  },
  {
   "cell_type": "code",
   "execution_count": null,
   "metadata": {},
   "outputs": [],
   "source": [
    "graph_net_dist = defaultdict(list)\n",
    "for row in tqdm_notebook(distance.iterrows()):\n",
    "    if int(row[1][\"Id_Node2\"]) in adj_dic[int(row[1][\"Id_Node1\"])]:\n",
    "        graph_net_dist[int(row[1][\"Id_Node1\"])].append((int(row[1][\"Id_Node2\"]), 1)      "
   ]
  },
  {
   "cell_type": "code",
   "execution_count": null,
   "metadata": {},
   "outputs": [],
   "source": [
    "# we saved this dictionary to a picke file so that we don't have to run the code each time\n",
    "with open('adj_dic_net', 'wb') as fp:\n",
    "    pickle.dump(graph_ph_dist,fp)"
   ]
  },
  {
   "cell_type": "code",
   "execution_count": null,
   "metadata": {},
   "outputs": [],
   "source": [
    "with open('adj_dic_net', 'rb') as fp:\n",
    "    graph_net_dist = pickle.load(fp)"
   ]
  },
  {
   "cell_type": "markdown",
   "metadata": {},
   "source": [
    "---------------------------------"
   ]
  },
  {
   "cell_type": "markdown",
   "metadata": {},
   "source": [
    "---------------------------------\n",
    "# Functionalities\n"
   ]
  },
  {
   "cell_type": "markdown",
   "metadata": {},
   "source": [
    "## Functionality 1 - Find the Neighbours!"
   ]
  },
  {
   "cell_type": "code",
   "execution_count": 322,
   "metadata": {},
   "outputs": [
    {
     "name": "stdout",
     "output_type": "stream",
     "text": [
      "Please type the id of the node you want to start with: 2\n",
      "Please type the metric you prefer. The options are 'distance' or 'time': distance\n",
      "Please type the numerical value of the chosen metric: 6500\n"
     ]
    }
   ],
   "source": [
    "v=int(input(\"Please type the id of the node you want to start with: \"))\n",
    "metric=input(\"Please type the metric you prefer. The options are 'distance' or 'time': \")\n",
    "val=int(input(\"Please type the numerical value of the chosen metric: \"))\n",
    "\n",
    "# If the user choose spatial distance...\n",
    "\n",
    "if (metric==\"distance\"):\n",
    "    def recursive_function(v,val,the_list):\n",
    "        df2 = distance[(distance.Id_Node1==v) & (distance.Distance <= val) & (~distance.Id_Node2.isin(the_list))]\n",
    "        df2['dist_left'] = val-df2['Distance']\n",
    "        the_list.extend(list(df2.Id_Node2))\n",
    "        n = df2[['Id_Node2','dist_left']].shape[0]\n",
    "        for i in range(n):\n",
    "            recursive_function(df2.iloc[i,1],df2.iloc[i,3],the_list) #applying the search recursively\n",
    "    def call_function(v,val):\n",
    "        the_list=[]\n",
    "        recursive_function(v,val,the_list)\n",
    "        the_list=[v]+the_list\n",
    "        neighbour=pd.DataFrame(the_list).reset_index(drop=True)\n",
    "        neighbour.columns=['Neighbouring_nodes']\n",
    "        return(neighbour) \n",
    "    \n",
    "# If the user choose time...\n",
    "elif(metric==\"time\"):\n",
    "    def recursive_function(v,val,the_list):\n",
    "        df2 = travel[(travel.Id_Node1==v) & (travel['Time distance'] <= val) & (~travel.Id_Node2.isin(the_list))]\n",
    "        df2['dist_left'] = val-df2['Time distance']\n",
    "        the_list.extend(list(df2.Id_Node2))\n",
    "        n = df2[['Id_Node2','dist_left']].shape[0]\n",
    "        for i in range(n):\n",
    "            recursive_function(df2.iloc[i,1],df2.iloc[i,3],the_list) #applying the search recursively\n",
    "    def call_function(v,val):\n",
    "        the_list=[]\n",
    "        recursive_function(v,val,the_list)\n",
    "        the_list=[v]+the_list\n",
    "        neighbour=pd.DataFrame(df2,the_list).reset_index(drop=True)\n",
    "        neighbour.columns=['Neighbouring_nodes']\n",
    "        return(neighbour) \n",
    "else: \n",
    "    print(\"Wrong option chosen\")\n",
    "\n",
    "# Check the code....\n"
   ]
  },
  {
   "cell_type": "code",
   "execution_count": null,
   "metadata": {},
   "outputs": [],
   "source": [
    "neighbour=call_function(v,val)"
   ]
  },
  {
   "cell_type": "markdown",
   "metadata": {},
   "source": [
    "Now that we have all the neighbours of the node we asked for we can plot it out"
   ]
  },
  {
   "cell_type": "markdown",
   "metadata": {},
   "source": [
    "### Functionality 1. Plot"
   ]
  },
  {
   "cell_type": "code",
   "execution_count": 324,
   "metadata": {},
   "outputs": [
    {
     "data": {
      "text/html": [
       "<div>\n",
       "<style scoped>\n",
       "    .dataframe tbody tr th:only-of-type {\n",
       "        vertical-align: middle;\n",
       "    }\n",
       "\n",
       "    .dataframe tbody tr th {\n",
       "        vertical-align: top;\n",
       "    }\n",
       "\n",
       "    .dataframe thead th {\n",
       "        text-align: right;\n",
       "    }\n",
       "</style>\n",
       "<table border=\"1\" class=\"dataframe\">\n",
       "  <thead>\n",
       "    <tr style=\"text-align: right;\">\n",
       "      <th></th>\n",
       "      <th>Neighbouring_nodes</th>\n",
       "    </tr>\n",
       "  </thead>\n",
       "  <tbody>\n",
       "    <tr>\n",
       "      <th>0</th>\n",
       "      <td>2</td>\n",
       "    </tr>\n",
       "    <tr>\n",
       "      <th>1</th>\n",
       "      <td>1048578</td>\n",
       "    </tr>\n",
       "    <tr>\n",
       "      <th>2</th>\n",
       "      <td>1050174</td>\n",
       "    </tr>\n",
       "    <tr>\n",
       "      <th>3</th>\n",
       "      <td>2462</td>\n",
       "    </tr>\n",
       "    <tr>\n",
       "      <th>4</th>\n",
       "      <td>2</td>\n",
       "    </tr>\n",
       "  </tbody>\n",
       "</table>\n",
       "</div>"
      ],
      "text/plain": [
       "   Neighbouring_nodes\n",
       "0                   2\n",
       "1             1048578\n",
       "2             1050174\n",
       "3                2462\n",
       "4                   2"
      ]
     },
     "execution_count": 324,
     "metadata": {},
     "output_type": "execute_result"
    }
   ],
   "source": [
    "neighbour.head(5)"
   ]
  },
  {
   "cell_type": "code",
   "execution_count": 325,
   "metadata": {},
   "outputs": [],
   "source": [
    "# First let's create a list of nodes\n",
    "n = neighbour['Neighbouring_nodes'].tolist()"
   ]
  },
  {
   "cell_type": "code",
   "execution_count": 326,
   "metadata": {},
   "outputs": [],
   "source": [
    "# we then create a list of unique \n",
    "n = list(unique_everseen(n))"
   ]
  },
  {
   "cell_type": "code",
   "execution_count": 337,
   "metadata": {},
   "outputs": [],
   "source": [
    "map1 = folium.Map(location = [34.133550,-114.315309], zoom_start = 6)"
   ]
  },
  {
   "cell_type": "code",
   "execution_count": 338,
   "metadata": {},
   "outputs": [],
   "source": [
    "first = n.pop(0)"
   ]
  },
  {
   "cell_type": "code",
   "execution_count": 339,
   "metadata": {},
   "outputs": [
    {
     "data": {
      "text/plain": [
       "<folium.map.Marker at 0x204efc5b3c8>"
      ]
     },
     "execution_count": 339,
     "metadata": {},
     "output_type": "execute_result"
    }
   ],
   "source": [
    "# We are going to use a different marker to show the initial node\n",
    "longitude = str(coordinates.iloc[int(first)-1]['Longitude'])\n",
    "longitude = decimal.Decimal(longitude[:2] + \".\" + longitude[2:])\n",
    "\n",
    "latitude = str(coordinates.iloc[int(first)-1]['Latitude'])\n",
    "latitude = decimal.Decimal(latitude[:4] + \".\" + latitude[4:])\n",
    "\n",
    "folium.Marker(\n",
    "    location=[longitude, latitude],\n",
    "    popup='Timberline Lodge',\n",
    "    icon=folium.Icon(color='red')\n",
    ").add_to(map1)"
   ]
  },
  {
   "cell_type": "code",
   "execution_count": 340,
   "metadata": {},
   "outputs": [],
   "source": [
    "coor = []\n",
    "for node in n:\n",
    "    \n",
    "    longitude = str(coordinates.iloc[int(node)-1]['Longitude'])\n",
    "    longitude = decimal.Decimal(longitude[:2] + \".\" + longitude[2:])\n",
    "    \n",
    "    latitude = str(coordinates.iloc[int(node)-1]['Latitude'])\n",
    "    latitude = decimal.Decimal(latitude[:4] + \".\" + latitude[4:])\n",
    "    \n",
    "    folium.Marker([longitude, latitude]).add_to(map1)\n",
    "    coor.append((longitude, latitude))\n"
   ]
  },
  {
   "cell_type": "code",
   "execution_count": 341,
   "metadata": {},
   "outputs": [],
   "source": [
    "#folium.PolyLine(coor).add_to(map1)"
   ]
  },
  {
   "cell_type": "markdown",
   "metadata": {},
   "source": [
    "*Zoom in to find nodes and edges*"
   ]
  },
  {
   "cell_type": "code",
   "execution_count": 342,
   "metadata": {},
   "outputs": [
    {
     "data": {
      "text/html": [
       "<div style=\"width:100%;\"><div style=\"position:relative;width:100%;height:0;padding-bottom:60%;\"><iframe src=\"data:text/html;charset=utf-8;base64,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\" style=\"position:absolute;width:100%;height:100%;left:0;top:0;border:none !important;\" allowfullscreen webkitallowfullscreen mozallowfullscreen></iframe></div></div>"
      ],
      "text/plain": [
       "<folium.folium.Map at 0x2047e399128>"
      ]
     },
     "execution_count": 342,
     "metadata": {},
     "output_type": "execute_result"
    }
   ],
   "source": [
    "map1"
   ]
  },
  {
   "cell_type": "markdown",
   "metadata": {},
   "source": [
    "---------------------------------"
   ]
  },
  {
   "cell_type": "markdown",
   "metadata": {},
   "source": [
    "## Functionality 2 - Find the smartest Network!"
   ]
  },
  {
   "cell_type": "markdown",
   "metadata": {},
   "source": [
    "We used a generalized version of Dijkstra to resolve functionality 2. <br/>\n",
    "How does it operate?"
   ]
  },
  {
   "cell_type": "markdown",
   "metadata": {},
   "source": [
    "__*Functions used*__"
   ]
  },
  {
   "cell_type": "code",
   "execution_count": 358,
   "metadata": {},
   "outputs": [],
   "source": [
    "# graph_net_dist --> Network Distance\n",
    "# graph_ph_dist --> Physical Distance\n",
    "# graph_trav_dist --> Travel Distance"
   ]
  },
  {
   "cell_type": "markdown",
   "metadata": {},
   "source": [
    "Let's pick wich distance we want to use: <br/>\n",
    "- Distance\n",
    "- Time \n",
    "- Network"
   ]
  },
  {
   "cell_type": "code",
   "execution_count": null,
   "metadata": {},
   "outputs": [],
   "source": [
    "metric = input(\"Please type the metric you prefer. The options are 'distance', 'time' or 'network': \")"
   ]
  },
  {
   "cell_type": "code",
   "execution_count": null,
   "metadata": {},
   "outputs": [],
   "source": [
    "if (metric==\"distance\"):\n",
    "    nodes = list(graph_ph_dist.keys())\n",
    "    distances = graph_ph_dist\n",
    "        \n",
    "elif(metric==\"time\"):\n",
    "    nodes = list(graph_ph_dist.keys())\n",
    "    distances = graph_ph_dist\n",
    "\n",
    "elif (metric==\"network\") : \n",
    "    nodes = list(graph_net_dist.keys())\n",
    "    distances = graph_net_dist\n"
   ]
  },
  {
   "cell_type": "code",
   "execution_count": 387,
   "metadata": {},
   "outputs": [
    {
     "name": "stdout",
     "output_type": "stream",
     "text": [
      "1 2 3\n"
     ]
    }
   ],
   "source": [
    "set_of_nodes = input()"
   ]
  },
  {
   "cell_type": "code",
   "execution_count": null,
   "metadata": {},
   "outputs": [],
   "source": [
    "set_of_nodes = set_of_nodes.split(\" \") # we split the input nodes\n",
    "perm = permutations(set_of_nodes, 2) # we create permutation of nodes"
   ]
  },
  {
   "cell_type": "code",
   "execution_count": 361,
   "metadata": {},
   "outputs": [
    {
     "name": "stdout",
     "output_type": "stream",
     "text": [
      "('2', '1')\n",
      "('2', '3')\n",
      "('3', '1')\n",
      "('3', '2')\n"
     ]
    }
   ],
   "source": [
    "all_distances = {} # we'll use this to store the distances\n",
    "\n",
    "for p in perm: # for every permutation\n",
    "    unvisited = {node: None for node in nodes} #using None as +inf\n",
    "    visited = {} # we initialize it as an empty dictionary\n",
    "    current = int(p[0]) # p --> (Node1, Node2)\n",
    "    end = int(p[1])\n",
    "    currentDistance = 0\n",
    "    unvisited[current] = currentDistance # unvisited --> {Node1: 0}\n",
    "\n",
    "    while True:\n",
    "        for neighbour, distance in distances[current]: # distance --> {Node1: [(neighbour, distance)...]}\n",
    "            if neighbour not in unvisited: continue # go to next iteration\n",
    "\n",
    "            newDistance = currentDistance + distance # we update the distance\n",
    "\n",
    "            if unvisited[neighbour] is None or unvisited[neighbour] > newDistance: \n",
    "                unvisited[neighbour] = newDistance\n",
    "\n",
    "        visited[current] = currentDistance\n",
    "        del unvisited[current] # we updated the ditionary previously\n",
    "\n",
    "        if not unvisited or current == end: \n",
    "            all_distances[p] = currentDistance\n",
    "            break\n",
    "\n",
    "        candidates = [node for node in unvisited.items() if node[1]]\n",
    "        current, currentDistance = sorted(candidates, key = lambda x: x[1])[0]"
   ]
  },
  {
   "cell_type": "code",
   "execution_count": 362,
   "metadata": {},
   "outputs": [],
   "source": [
    "candidates = []\n",
    "for pair1 in all_distances:\n",
    "    for pair2 in all_distances:\n",
    "        if pair1[1] == pair2[0] and pair1[0] != pair2[1]:\n",
    "            candidates.append((pair1, pair2))"
   ]
  },
  {
   "cell_type": "code",
   "execution_count": 371,
   "metadata": {},
   "outputs": [
    {
     "data": {
      "text/plain": [
       "[(('2', '3'), ('3', '1')), (('3', '2'), ('2', '1'))]"
      ]
     },
     "execution_count": 371,
     "metadata": {},
     "output_type": "execute_result"
    }
   ],
   "source": [
    "candidates"
   ]
  },
  {
   "cell_type": "code",
   "execution_count": 363,
   "metadata": {},
   "outputs": [],
   "source": [
    "p = permutations(candidates, len(candidates)-1)"
   ]
  },
  {
   "cell_type": "code",
   "execution_count": 364,
   "metadata": {},
   "outputs": [],
   "source": [
    "permu = [i for i in p]"
   ]
  },
  {
   "cell_type": "code",
   "execution_count": 365,
   "metadata": {},
   "outputs": [
    {
     "name": "stdout",
     "output_type": "stream",
     "text": [
      "(('2', '3'), ('3', '1'))\n",
      "(('3', '2'), ('2', '1'))\n"
     ]
    }
   ],
   "source": [
    "res = []\n",
    "for i in permu:\n",
    "    \n",
    "    for z in i:\n",
    "        trues = []\n",
    "        print(z)\n",
    "        for j in range(len(candidates)-3):\n",
    "            print(z[j])\n",
    "            trues.append(z[j][1]==z[j+1][0])\n",
    "        if all([l == True for l in trues] ):\n",
    "            res.append(z)\n",
    "            "
   ]
  },
  {
   "cell_type": "code",
   "execution_count": 366,
   "metadata": {},
   "outputs": [],
   "source": [
    "distances = []\n",
    "for tuple_ in res[:-1]:\n",
    "    try:\n",
    "        distances.append((all_distances[tuple_[0]] + all_distances[tuple_[1]]))\n",
    "    except:\n",
    "        pass"
   ]
  },
  {
   "cell_type": "code",
   "execution_count": 367,
   "metadata": {},
   "outputs": [],
   "source": [
    "# the best result!\n",
    "best = candidates[distances.index(min(distances))]"
   ]
  },
  {
   "cell_type": "code",
   "execution_count": 368,
   "metadata": {},
   "outputs": [],
   "source": [
    "b = [i for sublist in best for i in sublist]"
   ]
  },
  {
   "cell_type": "code",
   "execution_count": 369,
   "metadata": {},
   "outputs": [],
   "source": [
    "b = list(unique_everseen(b))"
   ]
  },
  {
   "cell_type": "code",
   "execution_count": 370,
   "metadata": {},
   "outputs": [
    {
     "data": {
      "text/plain": [
       "['2', '3', '1']"
      ]
     },
     "execution_count": 370,
     "metadata": {},
     "output_type": "execute_result"
    }
   ],
   "source": [
    "b"
   ]
  },
  {
   "cell_type": "markdown",
   "metadata": {},
   "source": [
    "### Functionality 2. Plot"
   ]
  },
  {
   "cell_type": "code",
   "execution_count": 374,
   "metadata": {},
   "outputs": [],
   "source": [
    "map = folium.Map(location = [34.133550,-114.315309], zoom_start = 6)"
   ]
  },
  {
   "cell_type": "code",
   "execution_count": 375,
   "metadata": {},
   "outputs": [],
   "source": [
    "coor = []\n",
    "for node in b:\n",
    "    \n",
    "    longitude = str(coordinates.iloc[int(node)-1]['Longitude'])\n",
    "    longitude = decimal.Decimal(longitude[:2] + \".\" + longitude[2:])\n",
    "    \n",
    "    latitude = str(coordinates.iloc[int(node)-1]['Latitude'])\n",
    "    latitude = decimal.Decimal(latitude[:4] + \".\" + latitude[4:])\n",
    "    \n",
    "    folium.Marker([longitude, latitude]).add_to(map)\n",
    "    coor.append((longitude, latitude))\n"
   ]
  },
  {
   "cell_type": "code",
   "execution_count": 376,
   "metadata": {},
   "outputs": [
    {
     "data": {
      "text/plain": [
       "<folium.vector_layers.PolyLine at 0x2047e3a4198>"
      ]
     },
     "execution_count": 376,
     "metadata": {},
     "output_type": "execute_result"
    }
   ],
   "source": [
    "folium.PolyLine(coor).add_to(map)"
   ]
  },
  {
   "cell_type": "code",
   "execution_count": 377,
   "metadata": {},
   "outputs": [
    {
     "data": {
      "text/html": [
       "<div style=\"width:100%;\"><div style=\"position:relative;width:100%;height:0;padding-bottom:60%;\"><iframe src=\"data:text/html;charset=utf-8;base64,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\" style=\"position:absolute;width:100%;height:100%;left:0;top:0;border:none !important;\" allowfullscreen webkitallowfullscreen mozallowfullscreen></iframe></div></div>"
      ],
      "text/plain": [
       "<folium.folium.Map at 0x2047f69ea90>"
      ]
     },
     "execution_count": 377,
     "metadata": {},
     "output_type": "execute_result"
    }
   ],
   "source": [
    "map"
   ]
  },
  {
   "cell_type": "markdown",
   "metadata": {},
   "source": [
    "## Functionality 3 - Shortest Ordered Route"
   ]
  },
  {
   "cell_type": "markdown",
   "metadata": {},
   "source": [
    "We'll use Dijkstra algorithm to find the shortest paths"
   ]
  },
  {
   "cell_type": "code",
   "execution_count": null,
   "metadata": {},
   "outputs": [],
   "source": [
    "def dijkstra(adj, start, end):\n",
    "\n",
    "    pred = {x: x for x in adj } \n",
    "    dist = {x: float('inf') for x in adj }# All the distances to infinite\n",
    "    dist[start] = 0 # First node has distance 0\n",
    "    queue = []\n",
    "    heapq.heappush(queue, [dist[start], start])# we insert the tuple (dist[start], start) from the start node\n",
    "\n",
    "    while(queue):\n",
    "        u = heapq.heappop(queue)  # u --> tuple [u_dist, u_id] \n",
    "        u_dist = u[0]\n",
    "        u_id = u[1]\n",
    "        if u_dist == dist[u_id]:\n",
    "            if u_id == end: #If we have found the shortest path to the end we are done\n",
    "                break\n",
    "            for v in adj[u_id]: # adj --> {Node: [(Connected node, distance)...]}\n",
    "                v_id = v[0]\n",
    "                w_uv = v[1]\n",
    "                if dist[u_id] +  w_uv < dist[v_id]: # If we find a shorter distance we can update it\n",
    "                    dist[v_id] = dist[u_id] + w_uv\n",
    "                    heapq.heappush(queue, [dist[v_id], v_id]) # heappush --> Pushes the value item onto the heap, maintaining the heap invariant.\n",
    "                    pred[v_id] = u_id\n",
    "    \n",
    "    if dist[end] == float('inf'):# If there is no path\n",
    "        stdout.write(\"There is no path between \" + start + \" and \" + end)\n",
    "    \n",
    "    # We go backwards from the end to the start following the shortest path\n",
    "    else:\n",
    "        st = []\n",
    "        node = end\n",
    "        while(True):\n",
    "            st.append(str(node))\n",
    "            if(node == pred[node]):\n",
    "                break\n",
    "            node = pred[node]\n",
    "        path = st[::-1] # we reverse the path list\n",
    "        return path # we return the shortest path"
   ]
  },
  {
   "cell_type": "code",
   "execution_count": 401,
   "metadata": {},
   "outputs": [
    {
     "name": "stdout",
     "output_type": "stream",
     "text": [
      "Insert starting node 72\n",
      "Insert node sequence 138 120 101\n",
      "Please type the metric you prefer. The options are 'distance', 'time' or 'network': distance\n"
     ]
    }
   ],
   "source": [
    "node=input('Insert starting node ')\n",
    "nodes_seq=list(input('Insert node sequence ').strip().split())\n",
    "metric=input(\"Please type the metric you prefer. The options are 'distance', 'time' or 'network': \")\n",
    "final_path=[]\n",
    "nodes_seq.insert(0, node)"
   ]
  },
  {
   "cell_type": "code",
   "execution_count": null,
   "metadata": {},
   "outputs": [],
   "source": [
    "if (metric==\"distance\"):\n",
    "    \n",
    "    g1 = dict(graph_ph_dist)\n",
    "    for n in range(len(nodes_seq)-1):#We calculate the final path\n",
    "        path=dijkstra(g1, nodes_seq[n], nodes_seq[n+1])\n",
    "        for i in range(len(path)):\n",
    "            final_path.append(path[i])\n",
    "            \n",
    "elif(metric==\"time\"):\n",
    "    \n",
    "    g2 = dict(graph_trav_dist)\n",
    "    for n in range(len(nodes_seq)-1):#We calculate the final path\n",
    "        path=dijkstra(g2, nodes_seq[n], nodes_seq[n+1])\n",
    "        for i in range(len(path)):\n",
    "            final_path.append(path[i])\n",
    "\n",
    "elif (metric==\"network\") : \n",
    "    \n",
    "    g3 = dict(graph_net_dist)\n",
    "    for n in range(len(nodes_seq)-1):#We calculate the final path\n",
    "        path=dijkstra(g3, nodes_seq[n], nodes_seq[n+1])\n",
    "        for i in range(len(path)):\n",
    "            final_path.append(path[i])\n",
    "else:\n",
    "    print(\"Error\")"
   ]
  },
  {
   "cell_type": "markdown",
   "metadata": {},
   "source": [
    "### Functionality 3. Plot"
   ]
  },
  {
   "cell_type": "code",
   "execution_count": 310,
   "metadata": {},
   "outputs": [],
   "source": [
    "# we then create a list of unique nodes\n",
    "n = builtins.map(int, final_path) \n",
    "n = list(unique_everseen(n))"
   ]
  },
  {
   "cell_type": "code",
   "execution_count": 311,
   "metadata": {},
   "outputs": [],
   "source": [
    "map3 = folium.Map(location = [34.133550,-114.315309], zoom_start = 6)"
   ]
  },
  {
   "cell_type": "code",
   "execution_count": 312,
   "metadata": {},
   "outputs": [],
   "source": [
    "first = n.pop(0) # --> starting point\n",
    "last = n.pop(len(n)-1) # --> ending point"
   ]
  },
  {
   "cell_type": "markdown",
   "metadata": {},
   "source": [
    "**Initial Node** (Red)"
   ]
  },
  {
   "cell_type": "code",
   "execution_count": 313,
   "metadata": {},
   "outputs": [
    {
     "data": {
      "text/plain": [
       "<folium.map.Marker at 0x2047f732438>"
      ]
     },
     "execution_count": 313,
     "metadata": {},
     "output_type": "execute_result"
    }
   ],
   "source": [
    "# We are going to use a different marker to show the initial node\n",
    "longitude = str(coordinates.iloc[int(first)-1]['Longitude'])\n",
    "longitude = decimal.Decimal(longitude[:2] + \".\" + longitude[2:])\n",
    "\n",
    "latitude = str(coordinates.iloc[int(first)-1]['Latitude'])\n",
    "latitude = decimal.Decimal(latitude[:4] + \".\" + latitude[4:])\n",
    "\n",
    "folium.Marker(\n",
    "    location=[longitude, latitude],\n",
    "    popup='Timberline Lodge',\n",
    "    icon=folium.Icon(color='red')\n",
    ").add_to(map3)"
   ]
  },
  {
   "cell_type": "markdown",
   "metadata": {},
   "source": [
    "**Ending Node** (Green)"
   ]
  },
  {
   "cell_type": "code",
   "execution_count": 314,
   "metadata": {},
   "outputs": [
    {
     "data": {
      "text/plain": [
       "<folium.map.Marker at 0x2047f7320f0>"
      ]
     },
     "execution_count": 314,
     "metadata": {},
     "output_type": "execute_result"
    }
   ],
   "source": [
    "# We are going to use a different marker to show the initial node\n",
    "longitude = str(coordinates.iloc[int(last)-1]['Longitude'])\n",
    "longitude = decimal.Decimal(longitude[:2] + \".\" + longitude[2:])\n",
    "\n",
    "latitude = str(coordinates.iloc[int(last)-1]['Latitude'])\n",
    "latitude = decimal.Decimal(latitude[:4] + \".\" + latitude[4:])\n",
    "\n",
    "folium.Marker(\n",
    "    location=[longitude, latitude],\n",
    "    popup='Timberline Lodge',\n",
    "    icon=folium.Icon(color='green')\n",
    ").add_to(map3)"
   ]
  },
  {
   "cell_type": "code",
   "execution_count": 315,
   "metadata": {},
   "outputs": [],
   "source": [
    "coor = []\n",
    "for node in n:\n",
    "    \n",
    "    # We locate the coordinates of the node\n",
    "    longitude = str(coordinates.iloc[int(node)-1]['Longitude']) \n",
    "    longitude = decimal.Decimal(longitude[:2] + \".\" + longitude[2:])\n",
    "    \n",
    "    latitude = str(coordinates.iloc[int(node)-1]['Latitude'])\n",
    "    latitude = decimal.Decimal(latitude[:4] + \".\" + latitude[4:])\n",
    "    \n",
    "    # We add a marker for each node in the list n\n",
    "    folium.Marker([longitude, latitude]).add_to(map3)\n",
    "    coor.append((longitude, latitude))\n"
   ]
  },
  {
   "cell_type": "code",
   "execution_count": 316,
   "metadata": {},
   "outputs": [
    {
     "data": {
      "text/html": [
       "<div style=\"width:100%;\"><div style=\"position:relative;width:100%;height:0;padding-bottom:60%;\"><iframe src=\"data:text/html;charset=utf-8;base64,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\" style=\"position:absolute;width:100%;height:100%;left:0;top:0;border:none !important;\" allowfullscreen webkitallowfullscreen mozallowfullscreen></iframe></div></div>"
      ],
      "text/plain": [
       "<folium.folium.Map at 0x205083ae1d0>"
      ]
     },
     "execution_count": 316,
     "metadata": {},
     "output_type": "execute_result"
    }
   ],
   "source": [
    "folium.PolyLine(coor).add_to(map3)\n",
    "map3"
   ]
  }
 ],
 "metadata": {
  "kernelspec": {
   "display_name": "Python 3",
   "language": "python",
   "name": "python3"
  },
  "language_info": {
   "codemirror_mode": {
    "name": "ipython",
    "version": 3
   },
   "file_extension": ".py",
   "mimetype": "text/x-python",
   "name": "python",
   "nbconvert_exporter": "python",
   "pygments_lexer": "ipython3",
   "version": "3.7.3"
  }
 },
 "nbformat": 4,
 "nbformat_minor": 2
}
